{
 "cells": [
  {
   "cell_type": "markdown",
   "id": "62c80835",
   "metadata": {},
   "source": [
    "**Visual Agentic AI**"
   ]
  },
  {
   "cell_type": "code",
   "execution_count": 9,
   "id": "86012526",
   "metadata": {},
   "outputs": [
    {
     "name": "stdout",
     "output_type": "stream",
     "text": [
      "Requirement already satisfied: langchain==0.3.24 in c:\\users\\asus\\appdata\\local\\packages\\pythonsoftwarefoundation.python.3.11_qbz5n2kfra8p0\\localcache\\local-packages\\python311\\site-packages (0.3.24)"
     ]
    },
    {
     "name": "stderr",
     "output_type": "stream",
     "text": [
      "\n",
      "[notice] A new release of pip is available: 25.0.1 -> 25.1.1\n",
      "[notice] To update, run: C:\\Users\\ASUS\\AppData\\Local\\Microsoft\\WindowsApps\\PythonSoftwareFoundation.Python.3.11_qbz5n2kfra8p0\\python.exe -m pip install --upgrade pip\n"
     ]
    },
    {
     "name": "stdout",
     "output_type": "stream",
     "text": [
      "\n",
      "Requirement already satisfied: langchain-openai==0.3.14 in c:\\users\\asus\\appdata\\local\\packages\\pythonsoftwarefoundation.python.3.11_qbz5n2kfra8p0\\localcache\\local-packages\\python311\\site-packages (0.3.14)\n",
      "Requirement already satisfied: langgraph==0.3.33 in c:\\users\\asus\\appdata\\local\\packages\\pythonsoftwarefoundation.python.3.11_qbz5n2kfra8p0\\localcache\\local-packages\\python311\\site-packages (0.3.33)\n",
      "Requirement already satisfied: langchain-tavily==0.1.6 in c:\\users\\asus\\appdata\\local\\packages\\pythonsoftwarefoundation.python.3.11_qbz5n2kfra8p0\\localcache\\local-packages\\python311\\site-packages (0.1.6)\n",
      "Requirement already satisfied: langchain-core<1.0.0,>=0.3.55 in c:\\users\\asus\\appdata\\local\\packages\\pythonsoftwarefoundation.python.3.11_qbz5n2kfra8p0\\localcache\\local-packages\\python311\\site-packages (from langchain==0.3.24) (0.3.61)\n",
      "Requirement already satisfied: langchain-text-splitters<1.0.0,>=0.3.8 in c:\\users\\asus\\appdata\\local\\packages\\pythonsoftwarefoundation.python.3.11_qbz5n2kfra8p0\\localcache\\local-packages\\python311\\site-packages (from langchain==0.3.24) (0.3.8)\n",
      "Requirement already satisfied: langsmith<0.4,>=0.1.17 in c:\\users\\asus\\appdata\\local\\packages\\pythonsoftwarefoundation.python.3.11_qbz5n2kfra8p0\\localcache\\local-packages\\python311\\site-packages (from langchain==0.3.24) (0.3.31)\n",
      "Requirement already satisfied: pydantic<3.0.0,>=2.7.4 in c:\\users\\asus\\appdata\\local\\packages\\pythonsoftwarefoundation.python.3.11_qbz5n2kfra8p0\\localcache\\local-packages\\python311\\site-packages (from langchain==0.3.24) (2.11.3)\n",
      "Requirement already satisfied: SQLAlchemy<3,>=1.4 in c:\\users\\asus\\appdata\\local\\packages\\pythonsoftwarefoundation.python.3.11_qbz5n2kfra8p0\\localcache\\local-packages\\python311\\site-packages (from langchain==0.3.24) (2.0.40)\n",
      "Requirement already satisfied: requests<3,>=2 in c:\\users\\asus\\appdata\\local\\packages\\pythonsoftwarefoundation.python.3.11_qbz5n2kfra8p0\\localcache\\local-packages\\python311\\site-packages (from langchain==0.3.24) (2.32.3)\n",
      "Requirement already satisfied: PyYAML>=5.3 in c:\\users\\asus\\appdata\\local\\packages\\pythonsoftwarefoundation.python.3.11_qbz5n2kfra8p0\\localcache\\local-packages\\python311\\site-packages (from langchain==0.3.24) (6.0.2)\n",
      "Requirement already satisfied: openai<2.0.0,>=1.68.2 in c:\\users\\asus\\appdata\\local\\packages\\pythonsoftwarefoundation.python.3.11_qbz5n2kfra8p0\\localcache\\local-packages\\python311\\site-packages (from langchain-openai==0.3.14) (1.82.0)\n",
      "Requirement already satisfied: tiktoken<1,>=0.7 in c:\\users\\asus\\appdata\\local\\packages\\pythonsoftwarefoundation.python.3.11_qbz5n2kfra8p0\\localcache\\local-packages\\python311\\site-packages (from langchain-openai==0.3.14) (0.9.0)\n",
      "Requirement already satisfied: langgraph-checkpoint<3.0.0,>=2.0.10 in c:\\users\\asus\\appdata\\local\\packages\\pythonsoftwarefoundation.python.3.11_qbz5n2kfra8p0\\localcache\\local-packages\\python311\\site-packages (from langgraph==0.3.33) (2.0.26)\n",
      "Requirement already satisfied: langgraph-prebuilt<0.2,>=0.1.8 in c:\\users\\asus\\appdata\\local\\packages\\pythonsoftwarefoundation.python.3.11_qbz5n2kfra8p0\\localcache\\local-packages\\python311\\site-packages (from langgraph==0.3.33) (0.1.8)\n",
      "Requirement already satisfied: langgraph-sdk<0.2.0,>=0.1.42 in c:\\users\\asus\\appdata\\local\\packages\\pythonsoftwarefoundation.python.3.11_qbz5n2kfra8p0\\localcache\\local-packages\\python311\\site-packages (from langgraph==0.3.33) (0.1.70)\n",
      "Requirement already satisfied: xxhash<4.0.0,>=3.5.0 in c:\\users\\asus\\appdata\\local\\packages\\pythonsoftwarefoundation.python.3.11_qbz5n2kfra8p0\\localcache\\local-packages\\python311\\site-packages (from langgraph==0.3.33) (3.5.0)\n",
      "Requirement already satisfied: aiohttp<4.0.0,>=3.11.14 in c:\\users\\asus\\appdata\\local\\packages\\pythonsoftwarefoundation.python.3.11_qbz5n2kfra8p0\\localcache\\local-packages\\python311\\site-packages (from langchain-tavily==0.1.6) (3.11.16)\n",
      "Requirement already satisfied: mypy<2.0.0,>=1.15.0 in c:\\users\\asus\\appdata\\local\\packages\\pythonsoftwarefoundation.python.3.11_qbz5n2kfra8p0\\localcache\\local-packages\\python311\\site-packages (from langchain-tavily==0.1.6) (1.15.0)\n",
      "Requirement already satisfied: aiohappyeyeballs>=2.3.0 in c:\\users\\asus\\appdata\\local\\packages\\pythonsoftwarefoundation.python.3.11_qbz5n2kfra8p0\\localcache\\local-packages\\python311\\site-packages (from aiohttp<4.0.0,>=3.11.14->langchain-tavily==0.1.6) (2.6.1)\n",
      "Requirement already satisfied: aiosignal>=1.1.2 in c:\\users\\asus\\appdata\\local\\packages\\pythonsoftwarefoundation.python.3.11_qbz5n2kfra8p0\\localcache\\local-packages\\python311\\site-packages (from aiohttp<4.0.0,>=3.11.14->langchain-tavily==0.1.6) (1.3.2)\n",
      "Requirement already satisfied: attrs>=17.3.0 in c:\\users\\asus\\appdata\\local\\packages\\pythonsoftwarefoundation.python.3.11_qbz5n2kfra8p0\\localcache\\local-packages\\python311\\site-packages (from aiohttp<4.0.0,>=3.11.14->langchain-tavily==0.1.6) (25.3.0)\n",
      "Requirement already satisfied: frozenlist>=1.1.1 in c:\\users\\asus\\appdata\\local\\packages\\pythonsoftwarefoundation.python.3.11_qbz5n2kfra8p0\\localcache\\local-packages\\python311\\site-packages (from aiohttp<4.0.0,>=3.11.14->langchain-tavily==0.1.6) (1.5.0)\n",
      "Requirement already satisfied: multidict<7.0,>=4.5 in c:\\users\\asus\\appdata\\local\\packages\\pythonsoftwarefoundation.python.3.11_qbz5n2kfra8p0\\localcache\\local-packages\\python311\\site-packages (from aiohttp<4.0.0,>=3.11.14->langchain-tavily==0.1.6) (6.4.3)\n",
      "Requirement already satisfied: propcache>=0.2.0 in c:\\users\\asus\\appdata\\local\\packages\\pythonsoftwarefoundation.python.3.11_qbz5n2kfra8p0\\localcache\\local-packages\\python311\\site-packages (from aiohttp<4.0.0,>=3.11.14->langchain-tavily==0.1.6) (0.3.1)\n",
      "Requirement already satisfied: yarl<2.0,>=1.17.0 in c:\\users\\asus\\appdata\\local\\packages\\pythonsoftwarefoundation.python.3.11_qbz5n2kfra8p0\\localcache\\local-packages\\python311\\site-packages (from aiohttp<4.0.0,>=3.11.14->langchain-tavily==0.1.6) (1.20.0)\n",
      "Requirement already satisfied: tenacity!=8.4.0,<10.0.0,>=8.1.0 in c:\\users\\asus\\appdata\\local\\packages\\pythonsoftwarefoundation.python.3.11_qbz5n2kfra8p0\\localcache\\local-packages\\python311\\site-packages (from langchain-core<1.0.0,>=0.3.55->langchain==0.3.24) (9.1.2)\n",
      "Requirement already satisfied: jsonpatch<2.0,>=1.33 in c:\\users\\asus\\appdata\\local\\packages\\pythonsoftwarefoundation.python.3.11_qbz5n2kfra8p0\\localcache\\local-packages\\python311\\site-packages (from langchain-core<1.0.0,>=0.3.55->langchain==0.3.24) (1.33)\n",
      "Requirement already satisfied: packaging<25,>=23.2 in c:\\users\\asus\\appdata\\local\\packages\\pythonsoftwarefoundation.python.3.11_qbz5n2kfra8p0\\localcache\\local-packages\\python311\\site-packages (from langchain-core<1.0.0,>=0.3.55->langchain==0.3.24) (24.2)\n",
      "Requirement already satisfied: typing-extensions>=4.7 in c:\\users\\asus\\appdata\\local\\packages\\pythonsoftwarefoundation.python.3.11_qbz5n2kfra8p0\\localcache\\local-packages\\python311\\site-packages (from langchain-core<1.0.0,>=0.3.55->langchain==0.3.24) (4.13.2)\n",
      "Requirement already satisfied: ormsgpack<2.0.0,>=1.8.0 in c:\\users\\asus\\appdata\\local\\packages\\pythonsoftwarefoundation.python.3.11_qbz5n2kfra8p0\\localcache\\local-packages\\python311\\site-packages (from langgraph-checkpoint<3.0.0,>=2.0.10->langgraph==0.3.33) (1.9.1)\n",
      "Requirement already satisfied: httpx>=0.25.2 in c:\\users\\asus\\appdata\\local\\packages\\pythonsoftwarefoundation.python.3.11_qbz5n2kfra8p0\\localcache\\local-packages\\python311\\site-packages (from langgraph-sdk<0.2.0,>=0.1.42->langgraph==0.3.33) (0.28.1)\n",
      "Requirement already satisfied: orjson>=3.10.1 in c:\\users\\asus\\appdata\\local\\packages\\pythonsoftwarefoundation.python.3.11_qbz5n2kfra8p0\\localcache\\local-packages\\python311\\site-packages (from langgraph-sdk<0.2.0,>=0.1.42->langgraph==0.3.33) (3.10.16)\n",
      "Requirement already satisfied: requests-toolbelt<2.0.0,>=1.0.0 in c:\\users\\asus\\appdata\\local\\packages\\pythonsoftwarefoundation.python.3.11_qbz5n2kfra8p0\\localcache\\local-packages\\python311\\site-packages (from langsmith<0.4,>=0.1.17->langchain==0.3.24) (1.0.0)\n",
      "Requirement already satisfied: zstandard<0.24.0,>=0.23.0 in c:\\users\\asus\\appdata\\local\\packages\\pythonsoftwarefoundation.python.3.11_qbz5n2kfra8p0\\localcache\\local-packages\\python311\\site-packages (from langsmith<0.4,>=0.1.17->langchain==0.3.24) (0.23.0)\n",
      "Requirement already satisfied: mypy_extensions>=1.0.0 in c:\\users\\asus\\appdata\\local\\packages\\pythonsoftwarefoundation.python.3.11_qbz5n2kfra8p0\\localcache\\local-packages\\python311\\site-packages (from mypy<2.0.0,>=1.15.0->langchain-tavily==0.1.6) (1.0.0)\n",
      "Requirement already satisfied: anyio<5,>=3.5.0 in c:\\users\\asus\\appdata\\local\\packages\\pythonsoftwarefoundation.python.3.11_qbz5n2kfra8p0\\localcache\\local-packages\\python311\\site-packages (from openai<2.0.0,>=1.68.2->langchain-openai==0.3.14) (4.9.0)\n",
      "Requirement already satisfied: distro<2,>=1.7.0 in c:\\users\\asus\\appdata\\local\\packages\\pythonsoftwarefoundation.python.3.11_qbz5n2kfra8p0\\localcache\\local-packages\\python311\\site-packages (from openai<2.0.0,>=1.68.2->langchain-openai==0.3.14) (1.9.0)\n",
      "Requirement already satisfied: jiter<1,>=0.4.0 in c:\\users\\asus\\appdata\\local\\packages\\pythonsoftwarefoundation.python.3.11_qbz5n2kfra8p0\\localcache\\local-packages\\python311\\site-packages (from openai<2.0.0,>=1.68.2->langchain-openai==0.3.14) (0.10.0)\n",
      "Requirement already satisfied: sniffio in c:\\users\\asus\\appdata\\local\\packages\\pythonsoftwarefoundation.python.3.11_qbz5n2kfra8p0\\localcache\\local-packages\\python311\\site-packages (from openai<2.0.0,>=1.68.2->langchain-openai==0.3.14) (1.3.1)\n",
      "Requirement already satisfied: tqdm>4 in c:\\users\\asus\\appdata\\local\\packages\\pythonsoftwarefoundation.python.3.11_qbz5n2kfra8p0\\localcache\\local-packages\\python311\\site-packages (from openai<2.0.0,>=1.68.2->langchain-openai==0.3.14) (4.67.1)\n",
      "Requirement already satisfied: annotated-types>=0.6.0 in c:\\users\\asus\\appdata\\local\\packages\\pythonsoftwarefoundation.python.3.11_qbz5n2kfra8p0\\localcache\\local-packages\\python311\\site-packages (from pydantic<3.0.0,>=2.7.4->langchain==0.3.24) (0.7.0)\n",
      "Requirement already satisfied: pydantic-core==2.33.1 in c:\\users\\asus\\appdata\\local\\packages\\pythonsoftwarefoundation.python.3.11_qbz5n2kfra8p0\\localcache\\local-packages\\python311\\site-packages (from pydantic<3.0.0,>=2.7.4->langchain==0.3.24) (2.33.1)\n",
      "Requirement already satisfied: typing-inspection>=0.4.0 in c:\\users\\asus\\appdata\\local\\packages\\pythonsoftwarefoundation.python.3.11_qbz5n2kfra8p0\\localcache\\local-packages\\python311\\site-packages (from pydantic<3.0.0,>=2.7.4->langchain==0.3.24) (0.4.0)\n",
      "Requirement already satisfied: charset-normalizer<4,>=2 in c:\\users\\asus\\appdata\\local\\packages\\pythonsoftwarefoundation.python.3.11_qbz5n2kfra8p0\\localcache\\local-packages\\python311\\site-packages (from requests<3,>=2->langchain==0.3.24) (3.4.1)\n",
      "Requirement already satisfied: idna<4,>=2.5 in c:\\users\\asus\\appdata\\local\\packages\\pythonsoftwarefoundation.python.3.11_qbz5n2kfra8p0\\localcache\\local-packages\\python311\\site-packages (from requests<3,>=2->langchain==0.3.24) (3.10)\n",
      "Requirement already satisfied: urllib3<3,>=1.21.1 in c:\\users\\asus\\appdata\\local\\packages\\pythonsoftwarefoundation.python.3.11_qbz5n2kfra8p0\\localcache\\local-packages\\python311\\site-packages (from requests<3,>=2->langchain==0.3.24) (2.4.0)\n",
      "Requirement already satisfied: certifi>=2017.4.17 in c:\\users\\asus\\appdata\\local\\packages\\pythonsoftwarefoundation.python.3.11_qbz5n2kfra8p0\\localcache\\local-packages\\python311\\site-packages (from requests<3,>=2->langchain==0.3.24) (2025.1.31)\n",
      "Requirement already satisfied: greenlet>=1 in c:\\users\\asus\\appdata\\local\\packages\\pythonsoftwarefoundation.python.3.11_qbz5n2kfra8p0\\localcache\\local-packages\\python311\\site-packages (from SQLAlchemy<3,>=1.4->langchain==0.3.24) (3.2.0)\n",
      "Requirement already satisfied: regex>=2022.1.18 in c:\\users\\asus\\appdata\\local\\packages\\pythonsoftwarefoundation.python.3.11_qbz5n2kfra8p0\\localcache\\local-packages\\python311\\site-packages (from tiktoken<1,>=0.7->langchain-openai==0.3.14) (2024.11.6)\n",
      "Requirement already satisfied: httpcore==1.* in c:\\users\\asus\\appdata\\local\\packages\\pythonsoftwarefoundation.python.3.11_qbz5n2kfra8p0\\localcache\\local-packages\\python311\\site-packages (from httpx>=0.25.2->langgraph-sdk<0.2.0,>=0.1.42->langgraph==0.3.33) (1.0.8)\n",
      "Requirement already satisfied: h11<0.15,>=0.13 in c:\\users\\asus\\appdata\\local\\packages\\pythonsoftwarefoundation.python.3.11_qbz5n2kfra8p0\\localcache\\local-packages\\python311\\site-packages (from httpcore==1.*->httpx>=0.25.2->langgraph-sdk<0.2.0,>=0.1.42->langgraph==0.3.33) (0.14.0)\n",
      "Requirement already satisfied: jsonpointer>=1.9 in c:\\users\\asus\\appdata\\local\\packages\\pythonsoftwarefoundation.python.3.11_qbz5n2kfra8p0\\localcache\\local-packages\\python311\\site-packages (from jsonpatch<2.0,>=1.33->langchain-core<1.0.0,>=0.3.55->langchain==0.3.24) (3.0.0)\n",
      "Requirement already satisfied: colorama in c:\\users\\asus\\appdata\\local\\packages\\pythonsoftwarefoundation.python.3.11_qbz5n2kfra8p0\\localcache\\local-packages\\python311\\site-packages (from tqdm>4->openai<2.0.0,>=1.68.2->langchain-openai==0.3.14) (0.4.6)\n"
     ]
    }
   ],
   "source": [
    "!pip install -U langchain==0.3.24 langchain-openai==0.3.14 langgraph==0.3.33 langchain-tavily==0.1.6"
   ]
  },
  {
   "cell_type": "code",
   "execution_count": null,
   "id": "94a9ea22",
   "metadata": {},
   "outputs": [],
   "source": [
    "import os\n",
    "os.environ[\"LANGCHAIN_API_KEY\"] = \"LANGCHAIN_API_KEY\"\n",
    "os.environ[\"LANGCHAIN_PROJECT\"] = \"Visual-Agentic-AI\"\n",
    "os.environ[\"LANGCHAIN_TRACING_V2\"] = \"true\"\n",
    "os.environ[\"TAVILY_API_KEY\"] = \"TavilyAPIKey\"\n",
    "os.environ[\"OPENAI_API_KEY\"] = \"OPENAI_API_KEY\""
   ]
  },
  {
   "cell_type": "code",
   "execution_count": 12,
   "id": "643850b4",
   "metadata": {},
   "outputs": [],
   "source": [
    "from langchain_tavily  import TavilySearch\n",
    "\n",
    "web_search =  TavilySearch(max_results=5)\n",
    "\n"
   ]
  },
  {
   "cell_type": "code",
   "execution_count": 13,
   "id": "92107b37",
   "metadata": {},
   "outputs": [
    {
     "name": "stdout",
     "output_type": "stream",
     "text": [
      "Overview of Vietnam Weather. Average temperature: 27 °C (81 °F), varies by region and season. Average humidity: 84%, varies by region and season. Average rainfall: 1,800 mm (71 inches), varies by region and season. Average sunshine duration: 2,000 hours per year, varies by region and season Average wind speed: not available. Rainy Season: May to October in most of the country, influenced by\n"
     ]
    }
   ],
   "source": [
    "web_search_results = web_search.invoke(\"What is the temperature of Vietnam?\")\n",
    "\n",
    "print(web_search_results[\"results\"][0][\"content\"])\n"
   ]
  },
  {
   "cell_type": "code",
   "execution_count": 15,
   "id": "42803686",
   "metadata": {},
   "outputs": [],
   "source": [
    "from langgraph.prebuilt import create_react_agent\n",
    "\n",
    "research_agent= create_react_agent(\n",
    "    model = \"gpt-4o-mini\",\n",
    "    tools = [web_search],\n",
    "    prompt=(\n",
    "        \"You are a research agent.\\n\\n\"\n",
    "        \"INSTRUCTIONS:\\n\"\n",
    "        \"- Assist ONLY with research-related tasks, DO NOT do any math\\n\"\n",
    "        \"- After you're done with your tasks, respond to the supervisor directly\\n\"\n",
    "        \"- Respond ONLY with the results of your work, do NOT include ANY other text.\"\n",
    "    ),\n",
    "    name=\"research_agent\",\n",
    ")"
   ]
  },
  {
   "cell_type": "code",
   "execution_count": 17,
   "id": "b6673a0c",
   "metadata": {},
   "outputs": [],
   "source": [
    "from langchain_core.messages import convert_to_messages\n",
    "\n",
    "def pretty_print_message(message, indent = False):\n",
    "    pretty_message = message.pretty_repr(html=True)\n",
    "    if not indent:\n",
    "        print(pretty_message)\n",
    "        return\n",
    "    intended = \"\\n\".join(\"\\t\" + c for c in pretty_message.split(\"\\n\"))\n",
    "    print(intended)\n",
    "\n",
    "def pretty_print_messages(update, cast_message = False):\n",
    "    is_subgraph = False\n",
    "    if isinstance(update, tuple):\n",
    "        namespace, update = update\n",
    "        if len(namespace) == 0:\n",
    "            return\n",
    "        graph_id = namespace[-1].split(\":\")[0]\n",
    "        print(f\"Update from subgraph {graph_id}:\\n\")\n",
    "        print(\"\\n\")\n",
    "        is_subgraph = True\n",
    "\n",
    "    for node_name, node_update in update.items():\n",
    "        update_label = f\"Update from node {node_name}:\\n\"\n",
    "        if is_subgraph:\n",
    "            update_label = \"\\t\" + update_label\n",
    "        print(update_label)\n",
    "        print(\"\\n\")\n",
    "\n",
    "        messages = convert_to_messages(node_update[\"messages\"])\n",
    "        for message in messages:\n",
    "            pretty_print_message(message, indent = is_subgraph)\n",
    "        print(\"\\n\") \n",
    "\n",
    "\n",
    "    \n",
    "\n"
   ]
  },
  {
   "cell_type": "code",
   "execution_count": 25,
   "id": "3eea4287",
   "metadata": {},
   "outputs": [
    {
     "name": "stdout",
     "output_type": "stream",
     "text": [
      "Update from node agent:\n",
      "\n",
      "\n",
      "\n",
      "==================================\u001b[1m Ai Message \u001b[0m==================================\n",
      "Name: research_agent\n",
      "Tool Calls:\n",
      "  tavily_search (call_nOm8hoh0qLahwcV3VolOv1Q5)\n",
      " Call ID: call_nOm8hoh0qLahwcV3VolOv1Q5\n",
      "  Args:\n",
      "    query: current Mayor of New York City\n",
      "    search_depth: basic\n",
      "\n",
      "\n",
      "Update from node tools:\n",
      "\n",
      "\n",
      "\n",
      "=================================\u001b[1m Tool Message \u001b[0m=================================\n",
      "Name: tavily_search\n",
      "\n",
      "{\"query\": \"current Mayor of New York City\", \"follow_up_questions\": null, \"answer\": null, \"images\": [], \"results\": [{\"title\": \"Office of the Mayor | Mayor's Bio | City of New York - NYC.gov\", \"url\": \"https://www.nyc.gov/office-of-the-mayor/bio.page\", \"content\": \"Mayor Eric Adams has served the people of New York City as an NYPD officer, State Senator, Brooklyn Borough President, and now as the 110th Mayor of the City of New York. He gave voice to a diverse coalition of working families in all five boroughs and is leading the fight to bring back New York City's economy, reduce inequality, improve public safety, and build a stronger, healthier city\", \"score\": 0.8479807, \"raw_content\": null}, {\"title\": \"Eric Adams (New York) - Ballotpedia\", \"url\": \"https://ballotpedia.org/Eric_Adams_(New_York)\", \"content\": \"Eric Adams (Democratic Party) is the Mayor of New York. He assumed office on January 1, 2022. His current term ends on January 1, 2026. Adams (independent) is running for re-election for Mayor of New York. He declared candidacy for the general election scheduled on November 4, 2025. Adams was born in Brooklyn in 1960. He earned an associate arts degree from New York City Technical College, a\", \"score\": 0.8296166, \"raw_content\": null}, {\"title\": \"Eric Adams - Wikipedia\", \"url\": \"https://en.wikipedia.org/wiki/Eric_Adams\", \"content\": \"Eric Leroy Adams (born September 1, 1960) is an American politician and former police officer who has served as the 110th mayor of New York City since 2022. Adams was an officer in the New York City Transit Police and then the New York City Police Department (NYPD) for more than 20 years, retiring at the rank of captain.\", \"score\": 0.77487355, \"raw_content\": null}, {\"title\": \"Eric Adams | Political Party, Facts, Mayor, & Indictment | Britannica\", \"url\": \"https://www.britannica.com/biography/Eric-Adams\", \"content\": \"Eric Adams (b. 1960) is the 110th mayor of New York City, a position he has held since 2022. He previously worked in the New York City Police Department for more than 20 years. His tenure as mayor has been filled with controversies, and in September 2024 he was indicted on federal charges of bribery, fraud, and soliciting foreign campaign donations.\", \"score\": 0.70944256, \"raw_content\": null}, {\"title\": \"Who's who in Eric Adams' administration - City & State New York\", \"url\": \"https://www.cityandstateny.com/politics/2025/01/whos-who-eric-adams-administration/360056/\", \"content\": \"Who's who in Eric Adams' administration From deputy mayors to fixers to legal counsel, here are the insiders the mayor has appointed to run the city.\", \"score\": 0.21143347, \"raw_content\": null}], \"response_time\": 1.97}\n",
      "\n",
      "\n",
      "Update from node agent:\n",
      "\n",
      "\n",
      "\n",
      "==================================\u001b[1m Ai Message \u001b[0m==================================\n",
      "Name: research_agent\n",
      "\n",
      "The current Mayor of New York City is Eric Adams. He has been in office since January 1, 2022.\n",
      "\n",
      "\n"
     ]
    }
   ],
   "source": [
    "for chunk in research_agent.stream(\n",
    "    {\"messages\": [{\"role\": \"user\", \"content\": \"Who is the Mayor of NYC?\"}]} \n",
    "):\n",
    "    pretty_print_messages(chunk)"
   ]
  },
  {
   "cell_type": "markdown",
   "id": "4a504efc",
   "metadata": {},
   "source": [
    "**Math Agent**"
   ]
  },
  {
   "cell_type": "code",
   "execution_count": 26,
   "id": "dfc18fc5",
   "metadata": {},
   "outputs": [],
   "source": [
    "def add(a: float, b: float):\n",
    "    \"\"\"Add two numbers.\"\"\"\n",
    "    return a + b\n",
    "\n",
    "\n",
    "def multiply(a: float, b: float):\n",
    "    \"\"\"Multiply two numbers.\"\"\"\n",
    "    return a * b\n",
    "\n",
    "\n",
    "def divide(a: float, b: float):\n",
    "    \"\"\"Divide two numbers.\"\"\"\n",
    "    return a / b"
   ]
  },
  {
   "cell_type": "code",
   "execution_count": 27,
   "id": "56b473e5",
   "metadata": {},
   "outputs": [],
   "source": [
    "math_agent = create_react_agent(\n",
    "    model = \"gpt-4o-mini\",\n",
    "    tools = [add, multiply, divide],\n",
    "    prompt = (\n",
    "        \"You are a math agent.\\n\\n\"\n",
    "        \"INSTRUCTIONS:\\n\"\n",
    "        \"- Assist ONLY with math-related tasks\\n\"\n",
    "        \"- After you're done with your tasks, respond to the supervisor directly\\n\"\n",
    "        \"- Respond ONLY with the results of your work, do NOT include ANY other text.\"\n",
    "    ),\n",
    "    name=\"math_agent\",\n",
    ")"
   ]
  },
  {
   "cell_type": "code",
   "execution_count": 31,
   "id": "39d0041a",
   "metadata": {},
   "outputs": [
    {
     "name": "stdout",
     "output_type": "stream",
     "text": [
      "Update from node agent:\n",
      "\n",
      "\n",
      "\n",
      "==================================\u001b[1m Ai Message \u001b[0m==================================\n",
      "Name: math_agent\n",
      "Tool Calls:\n",
      "  add (call_pEB4WudyG53jWxhsxfxrxrM7)\n",
      " Call ID: call_pEB4WudyG53jWxhsxfxrxrM7\n",
      "  Args:\n",
      "    a: 4\n",
      "    b: 5\n",
      "\n",
      "\n",
      "Update from node tools:\n",
      "\n",
      "\n",
      "\n",
      "=================================\u001b[1m Tool Message \u001b[0m=================================\n",
      "Name: add\n",
      "\n",
      "9.0\n",
      "\n",
      "\n",
      "Update from node agent:\n",
      "\n",
      "\n",
      "\n",
      "==================================\u001b[1m Ai Message \u001b[0m==================================\n",
      "Name: math_agent\n",
      "\n",
      "9.0\n",
      "\n",
      "\n"
     ]
    }
   ],
   "source": [
    "for chunk in math_agent.stream(\n",
    "    {\"messages\": [{\"role\": \"user\", \"content\": \"What is 4 + 5?\"}]}\n",
    "):\n",
    "    pretty_print_messages(chunk)"
   ]
  },
  {
   "cell_type": "code",
   "execution_count": 40,
   "id": "dd6f13a1",
   "metadata": {},
   "outputs": [],
   "source": [
    "from langgraph_supervisor import create_supervisor\n",
    "from langchain.chat_models import init_chat_model\n",
    "\n",
    "supervisor = create_supervisor(\n",
    "    model = init_chat_model(\"gpt-4o-mini\"),\n",
    "    agents = [math_agent, research_agent],\n",
    "    prompt=(\n",
    "        \"You are a supervisor managing two agents:\\n\"\n",
    "        \"- a research agent. Assign research-related tasks to this agent\\n\"\n",
    "        \"- a math agent. Assign math-related tasks to this agent\\n\"\n",
    "        \"Assign work to one agent at a time, do not call agents in parallel.\\n\"\n",
    "        \"Do not do any work yourself.\"\n",
    "    ),\n",
    "    add_handoff_back_messages=True,\n",
    "    output_mode=\"full_history\",\n",
    ").compile()"
   ]
  },
  {
   "cell_type": "code",
   "execution_count": 43,
   "id": "2f4244a7",
   "metadata": {},
   "outputs": [
    {
     "data": {
      "image/png": "[encoded data removed]",
      "text/plain": [
       "<IPython.core.display.Image object>"
      ]
     },
     "metadata": {},
     "output_type": "display_data"
    }
   ],
   "source": [
    "from IPython.display import display, Image\n",
    "\n",
    "display(Image(supervisor.get_graph().draw_mermaid_png()))"
   ]
  },
  {
   "cell_type": "code",
   "execution_count": 63,
   "id": "6b4424e4",
   "metadata": {},
   "outputs": [
    {
     "name": "stdout",
     "output_type": "stream",
     "text": [
      "{'supervisor': {'messages': [HumanMessage(content='What is the GPD of Vietnam in 2011, predict it in 2025 in billion USD?', additional_kwargs={}, response_metadata={}, id='4d9f648c-5a4f-4885-8305-ca7b66f1ced7'), AIMessage(content='', additional_kwargs={'tool_calls': [{'id': 'call_znKGWKCqhCAbxHpUp4N1ywiZ', 'function': {'arguments': '{}', 'name': 'transfer_to_math_agent'}, 'type': 'function'}], 'refusal': None}, response_metadata={'token_usage': {'completion_tokens': 12, 'prompt_tokens': 141, 'total_tokens': 153, 'completion_tokens_details': {'accepted_prediction_tokens': 0, 'audio_tokens': 0, 'reasoning_tokens': 0, 'rejected_prediction_tokens': 0}, 'prompt_tokens_details': {'audio_tokens': 0, 'cached_tokens': 0}}, 'model_name': 'gpt-4o-mini-2024-07-18', 'system_fingerprint': 'fp_54eb4bd693', 'id': 'chatcmpl-BbMpONoNmF1c69fXQ6yAt07cnfFPk', 'finish_reason': 'tool_calls', 'logprobs': None}, name='supervisor', id='run--af6a658c-4140-4f85-927e-7953d1028fd0-0', tool_calls=[{'name': 'transfer_to_math_agent', 'args': {}, 'id': 'call_znKGWKCqhCAbxHpUp4N1ywiZ', 'type': 'tool_call'}], usage_metadata={'input_tokens': 141, 'output_tokens': 12, 'total_tokens': 153, 'input_token_details': {'audio': 0, 'cache_read': 0}, 'output_token_details': {'audio': 0, 'reasoning': 0}}), ToolMessage(content='Successfully transferred to math_agent', name='transfer_to_math_agent', id='a9f9a0aa-9859-4806-b92a-e3e1a9dc79bc', tool_call_id='call_znKGWKCqhCAbxHpUp4N1ywiZ')]}}\n",
      "{'math_agent': {'messages': [HumanMessage(content='What is the GPD of Vietnam in 2011, predict it in 2025 in billion USD?', additional_kwargs={}, response_metadata={}, id='4d9f648c-5a4f-4885-8305-ca7b66f1ced7'), AIMessage(content='', additional_kwargs={'tool_calls': [{'id': 'call_znKGWKCqhCAbxHpUp4N1ywiZ', 'function': {'arguments': '{}', 'name': 'transfer_to_math_agent'}, 'type': 'function'}], 'refusal': None}, response_metadata={'token_usage': {'completion_tokens': 12, 'prompt_tokens': 141, 'total_tokens': 153, 'completion_tokens_details': {'accepted_prediction_tokens': 0, 'audio_tokens': 0, 'reasoning_tokens': 0, 'rejected_prediction_tokens': 0}, 'prompt_tokens_details': {'audio_tokens': 0, 'cached_tokens': 0}}, 'model_name': 'gpt-4o-mini-2024-07-18', 'system_fingerprint': 'fp_54eb4bd693', 'id': 'chatcmpl-BbMpONoNmF1c69fXQ6yAt07cnfFPk', 'finish_reason': 'tool_calls', 'logprobs': None}, name='supervisor', id='run--af6a658c-4140-4f85-927e-7953d1028fd0-0', tool_calls=[{'name': 'transfer_to_math_agent', 'args': {}, 'id': 'call_znKGWKCqhCAbxHpUp4N1ywiZ', 'type': 'tool_call'}], usage_metadata={'input_tokens': 141, 'output_tokens': 12, 'total_tokens': 153, 'input_token_details': {'audio': 0, 'cache_read': 0}, 'output_token_details': {'audio': 0, 'reasoning': 0}}), ToolMessage(content='Successfully transferred to math_agent', name='transfer_to_math_agent', id='a9f9a0aa-9859-4806-b92a-e3e1a9dc79bc', tool_call_id='call_znKGWKCqhCAbxHpUp4N1ywiZ'), AIMessage(content='', additional_kwargs={'tool_calls': [{'id': 'call_7dwTvQahcZkprMm8RguxY77t', 'function': {'arguments': '{\"a\": 137.22, \"b\": 1.2}', 'name': 'multiply'}, 'type': 'function'}, {'id': 'call_4pR2YATJBBtC8EEgWOZ5Gl16', 'function': {'arguments': '{\"a\": 229.5, \"b\": 1.2}', 'name': 'multiply'}, 'type': 'function'}], 'refusal': None}, response_metadata={'token_usage': {'completion_tokens': 58, 'prompt_tokens': 186, 'total_tokens': 244, 'completion_tokens_details': {'accepted_prediction_tokens': 0, 'audio_tokens': 0, 'reasoning_tokens': 0, 'rejected_prediction_tokens': 0}, 'prompt_tokens_details': {'audio_tokens': 0, 'cached_tokens': 0}}, 'model_name': 'gpt-4o-mini-2024-07-18', 'system_fingerprint': 'fp_62a23a81ef', 'id': 'chatcmpl-BbMpP7JLudsY8jZb7WSPj1oIHXlpx', 'finish_reason': 'tool_calls', 'logprobs': None}, name='math_agent', id='run--dc0dbbac-5b89-47d7-ba24-ea47b3a27213-0', tool_calls=[{'name': 'multiply', 'args': {'a': 137.22, 'b': 1.2}, 'id': 'call_7dwTvQahcZkprMm8RguxY77t', 'type': 'tool_call'}, {'name': 'multiply', 'args': {'a': 229.5, 'b': 1.2}, 'id': 'call_4pR2YATJBBtC8EEgWOZ5Gl16', 'type': 'tool_call'}], usage_metadata={'input_tokens': 186, 'output_tokens': 58, 'total_tokens': 244, 'input_token_details': {'audio': 0, 'cache_read': 0}, 'output_token_details': {'audio': 0, 'reasoning': 0}}), ToolMessage(content='164.664', name='multiply', id='d57fd5cb-adc8-465d-81fc-fe335dd6b838', tool_call_id='call_7dwTvQahcZkprMm8RguxY77t'), ToolMessage(content='275.4', name='multiply', id='2bcc3d94-28b8-4343-8015-535f37fe5ce1', tool_call_id='call_4pR2YATJBBtC8EEgWOZ5Gl16'), AIMessage(content='164.664 billion USD (2011 GDP) and predicted 275.4 billion USD (2025 GDP).', additional_kwargs={'refusal': None}, response_metadata={'token_usage': {'completion_tokens': 24, 'prompt_tokens': 267, 'total_tokens': 291, 'completion_tokens_details': {'accepted_prediction_tokens': 0, 'audio_tokens': 0, 'reasoning_tokens': 0, 'rejected_prediction_tokens': 0}, 'prompt_tokens_details': {'audio_tokens': 0, 'cached_tokens': 0}}, 'model_name': 'gpt-4o-mini-2024-07-18', 'system_fingerprint': 'fp_62a23a81ef', 'id': 'chatcmpl-BbMpRGHk7pkYpRxQ1uMJjo1vsuxFe', 'finish_reason': 'stop', 'logprobs': None}, name='math_agent', id='run--69cea11d-463b-4f98-85ee-3097be046ba1-0', usage_metadata={'input_tokens': 267, 'output_tokens': 24, 'total_tokens': 291, 'input_token_details': {'audio': 0, 'cache_read': 0}, 'output_token_details': {'audio': 0, 'reasoning': 0}}), AIMessage(content='Transferring back to supervisor', additional_kwargs={}, response_metadata={'__is_handoff_back': True}, name='math_agent', id='7ffaa120-283e-48ae-9be4-b768adab802c', tool_calls=[{'name': 'transfer_back_to_supervisor', 'args': {}, 'id': 'f750d5a4-770d-474b-b83e-f8c8ef660653', 'type': 'tool_call'}]), ToolMessage(content='Successfully transferred back to supervisor', name='transfer_back_to_supervisor', id='612c7061-dfe1-4138-9c5d-2069cbc14a17', tool_call_id='f750d5a4-770d-474b-b83e-f8c8ef660653')]}}\n",
      "{'supervisor': {'messages': [HumanMessage(content='What is the GPD of Vietnam in 2011, predict it in 2025 in billion USD?', additional_kwargs={}, response_metadata={}, id='4d9f648c-5a4f-4885-8305-ca7b66f1ced7'), AIMessage(content='', additional_kwargs={'tool_calls': [{'id': 'call_znKGWKCqhCAbxHpUp4N1ywiZ', 'function': {'arguments': '{}', 'name': 'transfer_to_math_agent'}, 'type': 'function'}], 'refusal': None}, response_metadata={'token_usage': {'completion_tokens': 12, 'prompt_tokens': 141, 'total_tokens': 153, 'completion_tokens_details': {'accepted_prediction_tokens': 0, 'audio_tokens': 0, 'reasoning_tokens': 0, 'rejected_prediction_tokens': 0}, 'prompt_tokens_details': {'audio_tokens': 0, 'cached_tokens': 0}}, 'model_name': 'gpt-4o-mini-2024-07-18', 'system_fingerprint': 'fp_54eb4bd693', 'id': 'chatcmpl-BbMpONoNmF1c69fXQ6yAt07cnfFPk', 'finish_reason': 'tool_calls', 'logprobs': None}, name='supervisor', id='run--af6a658c-4140-4f85-927e-7953d1028fd0-0', tool_calls=[{'name': 'transfer_to_math_agent', 'args': {}, 'id': 'call_znKGWKCqhCAbxHpUp4N1ywiZ', 'type': 'tool_call'}], usage_metadata={'input_tokens': 141, 'output_tokens': 12, 'total_tokens': 153, 'input_token_details': {'audio': 0, 'cache_read': 0}, 'output_token_details': {'audio': 0, 'reasoning': 0}}), ToolMessage(content='Successfully transferred to math_agent', name='transfer_to_math_agent', id='a9f9a0aa-9859-4806-b92a-e3e1a9dc79bc', tool_call_id='call_znKGWKCqhCAbxHpUp4N1ywiZ'), AIMessage(content='', additional_kwargs={'tool_calls': [{'id': 'call_7dwTvQahcZkprMm8RguxY77t', 'function': {'arguments': '{\"a\": 137.22, \"b\": 1.2}', 'name': 'multiply'}, 'type': 'function'}, {'id': 'call_4pR2YATJBBtC8EEgWOZ5Gl16', 'function': {'arguments': '{\"a\": 229.5, \"b\": 1.2}', 'name': 'multiply'}, 'type': 'function'}], 'refusal': None}, response_metadata={'token_usage': {'completion_tokens': 58, 'prompt_tokens': 186, 'total_tokens': 244, 'completion_tokens_details': {'accepted_prediction_tokens': 0, 'audio_tokens': 0, 'reasoning_tokens': 0, 'rejected_prediction_tokens': 0}, 'prompt_tokens_details': {'audio_tokens': 0, 'cached_tokens': 0}}, 'model_name': 'gpt-4o-mini-2024-07-18', 'system_fingerprint': 'fp_62a23a81ef', 'id': 'chatcmpl-BbMpP7JLudsY8jZb7WSPj1oIHXlpx', 'finish_reason': 'tool_calls', 'logprobs': None}, name='math_agent', id='run--dc0dbbac-5b89-47d7-ba24-ea47b3a27213-0', tool_calls=[{'name': 'multiply', 'args': {'a': 137.22, 'b': 1.2}, 'id': 'call_7dwTvQahcZkprMm8RguxY77t', 'type': 'tool_call'}, {'name': 'multiply', 'args': {'a': 229.5, 'b': 1.2}, 'id': 'call_4pR2YATJBBtC8EEgWOZ5Gl16', 'type': 'tool_call'}], usage_metadata={'input_tokens': 186, 'output_tokens': 58, 'total_tokens': 244, 'input_token_details': {'audio': 0, 'cache_read': 0}, 'output_token_details': {'audio': 0, 'reasoning': 0}}), ToolMessage(content='164.664', name='multiply', id='d57fd5cb-adc8-465d-81fc-fe335dd6b838', tool_call_id='call_7dwTvQahcZkprMm8RguxY77t'), ToolMessage(content='275.4', name='multiply', id='2bcc3d94-28b8-4343-8015-535f37fe5ce1', tool_call_id='call_4pR2YATJBBtC8EEgWOZ5Gl16'), AIMessage(content='164.664 billion USD (2011 GDP) and predicted 275.4 billion USD (2025 GDP).', additional_kwargs={'refusal': None}, response_metadata={'token_usage': {'completion_tokens': 24, 'prompt_tokens': 267, 'total_tokens': 291, 'completion_tokens_details': {'accepted_prediction_tokens': 0, 'audio_tokens': 0, 'reasoning_tokens': 0, 'rejected_prediction_tokens': 0}, 'prompt_tokens_details': {'audio_tokens': 0, 'cached_tokens': 0}}, 'model_name': 'gpt-4o-mini-2024-07-18', 'system_fingerprint': 'fp_62a23a81ef', 'id': 'chatcmpl-BbMpRGHk7pkYpRxQ1uMJjo1vsuxFe', 'finish_reason': 'stop', 'logprobs': None}, name='math_agent', id='run--69cea11d-463b-4f98-85ee-3097be046ba1-0', usage_metadata={'input_tokens': 267, 'output_tokens': 24, 'total_tokens': 291, 'input_token_details': {'audio': 0, 'cache_read': 0}, 'output_token_details': {'audio': 0, 'reasoning': 0}}), AIMessage(content='Transferring back to supervisor', additional_kwargs={}, response_metadata={'__is_handoff_back': True}, name='math_agent', id='7ffaa120-283e-48ae-9be4-b768adab802c', tool_calls=[{'name': 'transfer_back_to_supervisor', 'args': {}, 'id': 'f750d5a4-770d-474b-b83e-f8c8ef660653', 'type': 'tool_call'}]), ToolMessage(content='Successfully transferred back to supervisor', name='transfer_back_to_supervisor', id='612c7061-dfe1-4138-9c5d-2069cbc14a17', tool_call_id='f750d5a4-770d-474b-b83e-f8c8ef660653'), AIMessage(content='The GDP of Vietnam in 2011 was 164.664 billion USD, and it is predicted to be approximately 275.4 billion USD in 2025.', additional_kwargs={'refusal': None}, response_metadata={'token_usage': {'completion_tokens': 35, 'prompt_tokens': 327, 'total_tokens': 362, 'completion_tokens_details': {'accepted_prediction_tokens': 0, 'audio_tokens': 0, 'reasoning_tokens': 0, 'rejected_prediction_tokens': 0}, 'prompt_tokens_details': {'audio_tokens': 0, 'cached_tokens': 0}}, 'model_name': 'gpt-4o-mini-2024-07-18', 'system_fingerprint': 'fp_54eb4bd693', 'id': 'chatcmpl-BbMpmurxdz3Ged2etpnyZf69tbhIj', 'finish_reason': 'stop', 'logprobs': None}, name='supervisor', id='run--838bcd1a-ad73-49ce-b00e-0a7074817cdc-0', usage_metadata={'input_tokens': 327, 'output_tokens': 35, 'total_tokens': 362, 'input_token_details': {'audio': 0, 'cache_read': 0}, 'output_token_details': {'audio': 0, 'reasoning': 0}})]}}\n"
     ]
    }
   ],
   "source": [
    "for chunk in supervisor.stream(\n",
    "    {\n",
    "        \"messages\" : [\n",
    "            {\n",
    "                \"role\" : \"user\",\n",
    "                \"content\" : \"What is the GPD of Vietnam in 2011, predict it in 2025 in billion USD?\",\n",
    "\n",
    "            }\n",
    "        ]\n",
    "    },  \n",
    "    \n",
    "):\n",
    "    pretty_print_messages(chunk)"
   ]
  },
  {
   "cell_type": "markdown",
   "id": "23e186b7",
   "metadata": {},
   "source": [
    "***Multi Agent Supervisor***"
   ]
  },
  {
   "cell_type": "code",
   "execution_count": 76,
   "id": "71cf9de8",
   "metadata": {},
   "outputs": [
    {
     "name": "stdout",
     "output_type": "stream",
     "text": [
      "Requirement already satisfied: arxiv in c:\\users\\asus\\appdata\\local\\packages\\pythonsoftwarefoundation.python.3.11_qbz5n2kfra8p0\\localcache\\local-packages\\python311\\site-packages (2.2.0)\n",
      "Collecting wikipedia\n",
      "  Using cached wikipedia-1.4.0.tar.gz (27 kB)\n",
      "  Preparing metadata (setup.py): started\n",
      "  Preparing metadata (setup.py): finished with status 'done'\n",
      "Requirement already satisfied: duckduckgo-search in c:\\users\\asus\\appdata\\local\\packages\\pythonsoftwarefoundation.python.3.11_qbz5n2kfra8p0\\localcache\\local-packages\\python311\\site-packages (8.0.2)\n",
      "Requirement already satisfied: feedparser~=6.0.10 in c:\\users\\asus\\appdata\\local\\packages\\pythonsoftwarefoundation.python.3.11_qbz5n2kfra8p0\\localcache\\local-packages\\python311\\site-packages (from arxiv) (6.0.11)\n",
      "Requirement already satisfied: requests~=2.32.0 in c:\\users\\asus\\appdata\\local\\packages\\pythonsoftwarefoundation.python.3.11_qbz5n2kfra8p0\\localcache\\local-packages\\python311\\site-packages (from arxiv) (2.32.3)\n",
      "Collecting beautifulsoup4 (from wikipedia)\n",
      "  Downloading beautifulsoup4-4.13.4-py3-none-any.whl.metadata (3.8 kB)\n",
      "Requirement already satisfied: click>=8.1.8 in c:\\users\\asus\\appdata\\local\\packages\\pythonsoftwarefoundation.python.3.11_qbz5n2kfra8p0\\localcache\\local-packages\\python311\\site-packages (from duckduckgo-search) (8.1.8)\n",
      "Requirement already satisfied: primp>=0.15.0 in c:\\users\\asus\\appdata\\local\\packages\\pythonsoftwarefoundation.python.3.11_qbz5n2kfra8p0\\localcache\\local-packages\\python311\\site-packages (from duckduckgo-search) (0.15.0)\n",
      "Requirement already satisfied: lxml>=5.3.0 in c:\\users\\asus\\appdata\\local\\packages\\pythonsoftwarefoundation.python.3.11_qbz5n2kfra8p0\\localcache\\local-packages\\python311\\site-packages (from duckduckgo-search) (5.4.0)\n",
      "Requirement already satisfied: colorama in c:\\users\\asus\\appdata\\local\\packages\\pythonsoftwarefoundation.python.3.11_qbz5n2kfra8p0\\localcache\\local-packages\\python311\\site-packages (from click>=8.1.8->duckduckgo-search) (0.4.6)\n",
      "Requirement already satisfied: sgmllib3k in c:\\users\\asus\\appdata\\local\\packages\\pythonsoftwarefoundation.python.3.11_qbz5n2kfra8p0\\localcache\\local-packages\\python311\\site-packages (from feedparser~=6.0.10->arxiv) (1.0.0)\n",
      "Requirement already satisfied: charset-normalizer<4,>=2 in c:\\users\\asus\\appdata\\local\\packages\\pythonsoftwarefoundation.python.3.11_qbz5n2kfra8p0\\localcache\\local-packages\\python311\\site-packages (from requests~=2.32.0->arxiv) (3.4.1)\n",
      "Requirement already satisfied: idna<4,>=2.5 in c:\\users\\asus\\appdata\\local\\packages\\pythonsoftwarefoundation.python.3.11_qbz5n2kfra8p0\\localcache\\local-packages\\python311\\site-packages (from requests~=2.32.0->arxiv) (3.10)\n",
      "Requirement already satisfied: urllib3<3,>=1.21.1 in c:\\users\\asus\\appdata\\local\\packages\\pythonsoftwarefoundation.python.3.11_qbz5n2kfra8p0\\localcache\\local-packages\\python311\\site-packages (from requests~=2.32.0->arxiv) (2.4.0)\n",
      "Requirement already satisfied: certifi>=2017.4.17 in c:\\users\\asus\\appdata\\local\\packages\\pythonsoftwarefoundation.python.3.11_qbz5n2kfra8p0\\localcache\\local-packages\\python311\\site-packages (from requests~=2.32.0->arxiv) (2025.1.31)\n",
      "Collecting soupsieve>1.2 (from beautifulsoup4->wikipedia)\n",
      "  Downloading soupsieve-2.7-py3-none-any.whl.metadata (4.6 kB)\n",
      "Requirement already satisfied: typing-extensions>=4.0.0 in c:\\users\\asus\\appdata\\local\\packages\\pythonsoftwarefoundation.python.3.11_qbz5n2kfra8p0\\localcache\\local-packages\\python311\\site-packages (from beautifulsoup4->wikipedia) (4.13.2)\n",
      "Downloading beautifulsoup4-4.13.4-py3-none-any.whl (187 kB)\n",
      "Downloading soupsieve-2.7-py3-none-any.whl (36 kB)\n",
      "Building wheels for collected packages: wikipedia\n",
      "  Building wheel for wikipedia (setup.py): started\n",
      "  Building wheel for wikipedia (setup.py): finished with status 'done'\n",
      "  Created wheel for wikipedia: filename=wikipedia-1.4.0-py3-none-any.whl size=11703 sha256=b9db7e8e2cdd8c2fb8198a5e8235468cfcf3bf857beaa6eb1b989924e42bf8bd\n",
      "  Stored in directory: c:\\users\\asus\\appdata\\local\\pip\\cache\\wheels\\8f\\ab\\cb\\45ccc40522d3a1c41e1d2ad53b8f33a62f394011ec38cd71c6\n",
      "Successfully built wikipedia\n",
      "Installing collected packages: soupsieve, beautifulsoup4, wikipedia\n",
      "Successfully installed beautifulsoup4-4.13.4 soupsieve-2.7 wikipedia-1.4.0\n",
      "Note: you may need to restart the kernel to use updated packages.\n"
     ]
    },
    {
     "name": "stderr",
     "output_type": "stream",
     "text": [
      "\n",
      "[notice] A new release of pip is available: 25.0.1 -> 25.1.1\n",
      "[notice] To update, run: C:\\Users\\ASUS\\AppData\\Local\\Microsoft\\WindowsApps\\PythonSoftwareFoundation.Python.3.11_qbz5n2kfra8p0\\python.exe -m pip install --upgrade pip\n"
     ]
    }
   ],
   "source": [
    "pip install arxiv wikipedia duckduckgo-search"
   ]
  },
  {
   "cell_type": "markdown",
   "id": "aeb51574",
   "metadata": {},
   "source": [
    "**Search**"
   ]
  },
  {
   "cell_type": "code",
   "execution_count": 81,
   "id": "b714669f",
   "metadata": {},
   "outputs": [],
   "source": [
    "from langchain_community.tools import ArxivQueryRun, WikipediaQueryRun, DuckDuckGoSearchRun\n",
    "from langchain_community.utilities import ArxivAPIWrapper, WikipediaAPIWrapper, DuckDuckGoSearchAPIWrapper"
   ]
  },
  {
   "cell_type": "code",
   "execution_count": 82,
   "id": "4f60360e",
   "metadata": {},
   "outputs": [
    {
     "data": {
      "text/plain": [
       "'Paris is the capital of what country? Paris, city and capital of France, situated in the north-central part of the country. People were living on the site of the present-day city, located along the Seine River some 233 miles (375 km) upstream from the river\\'s mouth on the English Channel (La Manche), by about 7600 bce. Learn about Paris, the capital and largest city of France, with its history, culture, landmarks, and transportation. Find out its location, population, currency, and weather in 2025. What is the French Capital of the World? The answer, unequivocally, is Paris. While the term \"French capital of the world\" isn\\'t an official designation, it\\'s a moniker that Paris has earned through its immense influence on global culture, fashion, art, cuisine, and politics. Learn why Paris is the capital of France and how it became the political and cultural hub of the country. Discover the best places to visit, the weather, the food, and the nicknames of the \"City of Light\" and the \"City of Love\". The capital of France is Paris, and there are no other official capitals. However, there are several other major cities in France that are important, such as: Marseille. Lyon. Toulouse. But Paris is the only official capital city.'"
      ]
     },
     "execution_count": 82,
     "metadata": {},
     "output_type": "execute_result"
    }
   ],
   "source": [
    "DuckDuckGo_wrapper = DuckDuckGoSearchAPIWrapper()\n",
    "DuckDuckGo = DuckDuckGoSearchRun(\n",
    "    api_wrapper = DuckDuckGo_wrapper,\n",
    "    description=\"Use this tool to search for information on the internet\"\n",
    ")\n",
    "DuckDuckGo.invoke(\"What is the capital of France?\")\n",
    "\n",
    "    "
   ]
  },
  {
   "cell_type": "code",
   "execution_count": 72,
   "id": "ac8451cc",
   "metadata": {},
   "outputs": [
    {
     "data": {
      "text/plain": [
       "'Published: 2025-03-03\\nTitle: Rotary Outliers and Rotary Offset Features in Large Language Models\\nAuthors: André Jonasson\\nSummary: Transformer-based Large Language Models (LLMs) rely on positional encodings\\nto provide sequence position information to their attention mechanism. Rotary\\nPositional Encodings (RoPE), which encode relative position by rotating queries\\nand keys, have become widely used in modern LLMs. We study the features and\\npatterns that emerge in queries and keys when using rotary embeddings. Our\\nanalysis reveals consistent patterns within the same model across layers and\\nattention heads and across different models and architectures. We present and\\napply analysis techniques and show how the queries and keys use RoPE to\\nconstruct various attention patterns, including attention sinks. We find and\\nanalyze outliers across models in queries and keys and find that they are\\nlikely to be found in rotary features with partial cycles. We derive bounds\\nthat tell us what rotary frequencies are likely to be selected as outlier\\nfeatures and at what minimum angle the query-key rotary pairs in these features\\ntend to be above and verify the bounds empirically with models of significant\\narchitectural differences.\\n\\nPublished: 2024-06-14\\nTitle: 3D-RPE: Enhancing Long-Context Modeling Through 3D Rotary Position Encoding\\nAuthors: Xindian Ma, Wenyuan Liu, Peng Zhang, Nan Xu\\nSummary: Inspired by the Bloch Sphere representation, we propose a novel rotary\\nposition encoding on a three-dimensional sphere, named 3D Rotary Position\\nEncoding (3D-RPE). 3D-RPE is an advanced version of the widely used 2D Rotary\\nPosition Encoding (RoPE), with two major advantages for modeling long contexts:\\ncontrollable long-term decay and improved position resolution. For controllable\\nlong-term decay, 3D-RPE allows for the regulation of long-term decay within the\\nchunk size, ensuring the modeling of relative positional information between\\ntokens at a distant relative position. For enhanced position resolution, 3D-RPE\\ncan mitigate the degradation of position resolution caused by position\\ninterpolation on RoPE. We have conducted experiments on long-context Natural\\nLanguage Understanding (NLU) and long-sequence Language Modeling (LM) tasks.\\nFrom the experimental results, 3D-RPE achieved performance improvements over\\nRoPE, especially in long-context NLU tasks.\\n\\nPublished: 2025-05-21\\nTitle: VRoPE: Rotary Position Embedding for Video Large Language Models\\nAuthors: Zikang Liu, Longteng Guo, Yepeng Tang, Tongtian Yue, Junxian Cai, Kai Ma, Qingbin Liu, Xi Chen, Jing Liu\\nSummary: Rotary Position Embedding (RoPE) has shown strong performance in text-based\\nLarge Language Models (LLMs), but extending it to video remains a challenge due\\nto the intricate spatiotemporal structure of video frames. Existing\\nadaptations, such as RoPE-3D, attempt to encode spatial and temporal dimensions\\nseparately but suffer from two major limitations: positional bias in attention\\ndistribution and disruptions in video-text transitions. To overcome these\\nissues, we propose Video Rotary Position Embedding (VRoPE), a novel positional\\nencoding method tailored for Video-LLMs. Specifically, we introduce a more\\nbalanced encoding strategy that mitigates attention biases, ensuring a more\\nuniform distribution of spatial focus. Additionally, our approach restructures\\npositional indices to ensure a smooth transition between video and text tokens.\\nExtensive experiments on different models demonstrate that VRoPE consistently\\noutperforms previous RoPE variants, achieving significant improvements in video\\nunderstanding, temporal reasoning, and retrieval tasks. Code will be available\\nat https://github.com/johncaged/VRoPE.'"
      ]
     },
     "execution_count": 72,
     "metadata": {},
     "output_type": "execute_result"
    }
   ],
   "source": [
    "arxiv_wrapper = ArxivAPIWrapper(\n",
    "    top_k_result = 4,\n",
    "    doc_content_chars_min = 0,\n",
    "    doc_content_chars_max = 2000\n",
    ")\n",
    "arxiv = ArxivQueryRun(\n",
    "    arxiv_wrapper = arxiv_wrapper,\n",
    "    description=\"Use this tool to search for papers on arxiv.org\"\n",
    ")\n",
    "arxiv.invoke(\"Rotary Positional Encoding\")"
   ]
  },
  {
   "cell_type": "code",
   "execution_count": 79,
   "id": "729c5f9e",
   "metadata": {},
   "outputs": [
    {
     "data": {
      "text/plain": [
       "'Page: Deep learning\\nSummary: Deep learning is a subset of machine learning that focuses on utilizing multilayered neural networks to perform tasks such as classification, regression, and representation learning. The field takes inspiration from biological neuroscience and is centered around stacking artificial neurons into layers and \"training\" them to process data. The adjective \"deep\" refers to the use of multiple layers (ranging from three to several hundred or thousands) in the network. Methods used can be either supervised, semi-supervised or unsupervised.\\nSome common deep learning network architectures include fully connected networks, deep belief networks, recurrent neural networks, convolutional neural networks, generative adversarial networks, transformers, and neural radiance fields. These architectures have been applied to fields including computer vision, speech recognition, natural language processing, machine translation, bioinformatics, drug design, medical image analysis, climate science, material inspection and board game programs, where they have produced results comparable to and in some cases surpassing human expert performance.\\nEarly forms of neural networks were inspired by information processing and distributed communication nodes in biological systems, particularly the human brain. However, current neural networks do not intend to model the brain function of organisms, and are generally seen as low-quality models for that purpose.\\n\\n\\n\\nPage: Transformer (deep learning architecture)\\nSummary: The transformer is a deep learning architecture that was developed by researchers at Google and is based on the multi-head attention mechanism, which was proposed in the 2017 paper \"Attention Is All You Need\". Text is converted to numerical representations called tokens, and each token is converted into a vector via lookup from a word embedding table. At each layer, each token is then contextualized within the scope of the context window with other (unmasked) tokens via a parallel multi-head attention mechanism, allowing the signal for key tokens to be amplified and less important tokens to be diminished.\\nTransformers have the advantage of having no recurrent units, therefore requiring less training time than earlier recurrent neural architectures (RNNs) such as long short-term memory (LSTM). Later variations have been widely adopted for training large language models (LLM) on large (language) datasets.\\n\\nTransformers were first developed as an improvement over previous architectures for machine translation, but have found many applications since. They are used in large-scale natural language processing, computer vision (vision transformers), reinforcement learning, audio, multimodal learning, robotics, and even playing chess. It has also led to the development of pre-trained systems, such as generative pre-trained transformers (GPTs) and BERT (bidirectional encoder representations from transformers).\\n\\nPage: Deep Learning Super Sampling\\nSummary: Deep Learning Super Sampling (DLSS) is a suite of real-time deep learning image enhancement and upscaling technologies developed by Nvidia that are available in a number of video games. The goal of these technologies is to allow the majority of the graphics pipeline to run at a lower resolution for increased performance, and then infer a higher resolution image from this that approximates the same level of detail as if the image had been rendered at this higher resolution. This allows for higher graphical settings and/or frame rates for a given output resolution, depending on user preference.\\nAll generations of DLSS are available on all RTX-branded cards from Nvidia in supported titles. However, the Frame Generation feature is only supported on 40 series GPUs or newer and Multi Frame Generation is only available on 50 series GPUs.\\n\\n'"
      ]
     },
     "execution_count": 79,
     "metadata": {},
     "output_type": "execute_result"
    }
   ],
   "source": [
    "wikipedia_wrapper = WikipediaAPIWrapper()\n",
    "wikipedia = WikipediaQueryRun(\n",
    "    api_wrapper = wikipedia_wrapper,\n",
    "    description=\"Use this tool to search for information on wikipedia\"\n",
    ")\n",
    "wikipedia.invoke(\"Deep Learning\")"
   ]
  },
  {
   "cell_type": "code",
   "execution_count": null,
   "id": "d0e3779c",
   "metadata": {},
   "outputs": [],
   "source": []
  },
  {
   "cell_type": "code",
   "execution_count": 198,
   "id": "baddad6c",
   "metadata": {},
   "outputs": [],
   "source": [
    "from langchain_core.messages import convert_to_messages\n",
    "\n",
    "def pretty_print_message(message, indent=False):\n",
    "    pretty_message = message.pretty_repr(html=True)\n",
    "    if not indent:\n",
    "        print(pretty_message)\n",
    "        return\n",
    "\n",
    "    indented = \"\\n\".join(\"\\t\" + c for c in pretty_message.split(\"\\n\"))\n",
    "    print(indented)\n",
    "\n",
    "def pretty_print_messages(update, last_message=False):\n",
    "    is_subgraph = False\n",
    "    if isinstance(update, tuple):\n",
    "        ns, update = update\n",
    "        # skip parent graph updates in the printouts\n",
    "        if len(ns) == 0:\n",
    "            return\n",
    "\n",
    "        graph_id = ns[-1].split(\":\")[0]\n",
    "        print(f\"Update from subgraph {graph_id}:\")\n",
    "        print(\"\\n\")\n",
    "        is_subgraph = True\n",
    "\n",
    "    for node_name, node_update in update.items():\n",
    "        update_label = f\"Update from node {node_name}:\"\n",
    "        if is_subgraph:\n",
    "            update_label = \"\\t\" + update_label\n",
    "\n",
    "        print(update_label)\n",
    "        print(\"\\n\")\n",
    "\n",
    "        messages = convert_to_messages(node_update[\"messages\"])\n",
    "        if last_message:\n",
    "            messages = messages[-1:]\n",
    "\n",
    "        for m in messages:\n",
    "            pretty_print_message(m, indent=is_subgraph)\n",
    "        print(\"\\n\")"
   ]
  },
  {
   "cell_type": "code",
   "execution_count": 91,
   "id": "e2375c38",
   "metadata": {},
   "outputs": [],
   "source": [
    "from langgraph.prebuilt import create_react_agent\n",
    "\n",
    "research_agent = create_react_agent(\n",
    "    model = \"gpt-4o-mini\",\n",
    "    tools = [arxiv, DuckDuckGo, wikipedia],\n",
    "    prompt = (\"you are a research agent.\\n\\n\"\n",
    "    \"INSTRUCTIONS:\\n\"\n",
    "    \"1. Read the question carefully.\\n\"\n",
    "    \"2. Use the tools to find the answer.\\n\"\n",
    "    \"3. Return the answer.\\n\\n\"),\n",
    "    name = \"research_agent\",\n",
    ")\n"
   ]
  },
  {
   "cell_type": "code",
   "execution_count": 92,
   "id": "2e35e99b",
   "metadata": {},
   "outputs": [
    {
     "name": "stdout",
     "output_type": "stream",
     "text": [
      "Update from node agent:\n",
      "\n",
      "\n",
      "==================================\u001b[1m Ai Message \u001b[0m==================================\n",
      "Name: research_agent\n",
      "Tool Calls:\n",
      "  wikipedia (call_AHY1cqhPeSYR7NP8L1ZhjiUH)\n",
      " Call ID: call_AHY1cqhPeSYR7NP8L1ZhjiUH\n",
      "  Args:\n",
      "    query: Reinforcement Learning\n",
      "\n",
      "\n",
      "Update from node tools:\n",
      "\n",
      "\n",
      "=================================\u001b[1m Tool Message \u001b[0m=================================\n",
      "Name: wikipedia\n",
      "\n",
      "Page: Reinforcement learning\n",
      "Summary: Reinforcement learning (RL) is an interdisciplinary area of machine learning and optimal control concerned with how an intelligent agent should take actions in a dynamic environment in order to maximize a reward signal. Reinforcement learning is one of the three basic machine learning paradigms, alongside supervised learning and unsupervised learning.\n",
      "Reinforcement learning differs from supervised learning in not needing labelled input-output pairs to be presented, and in not needing sub-optimal actions to be explicitly corrected. Instead, the focus is on finding a balance between exploration (of uncharted territory) and exploitation (of current knowledge) with the goal of maximizing the cumulative reward (the feedback of which might be incomplete or delayed). The search for this balance is known as the exploration–exploitation dilemma.\n",
      "\n",
      "The environment is typically stated in the form of a Markov decision process (MDP), as many reinforcement learning algorithms use dynamic programming techniques. The main difference between classical dynamic programming methods and reinforcement learning algorithms is that the latter do not assume knowledge of an exact mathematical model of the Markov decision process, and they target large MDPs where exact methods become infeasible. \n",
      "\n",
      "\n",
      "\n",
      "Page: Deep reinforcement learning\n",
      "Summary: Deep reinforcement learning (DRL) is a subfield of machine learning that combines principles of reinforcement learning (RL) and deep learning. It involves training agents to make decisions by interacting with an environment to maximize cumulative rewards, while using deep neural networks to represent policies, value functions, or environment models. This integration enables DRL systems to process high-dimensional inputs, such as images or continuous control signals, making the approach effective for solving complex tasks. Since the introduction of the deep Q-network (DQN) in 2015, DRL has achieved significant successes across domains including games, robotics, and autonomous systems, and is increasingly applied in areas such as healthcare, finance, and autonomous vehicles.\n",
      "\n",
      "\n",
      "\n",
      "Page: Reinforcement learning from human feedback\n",
      "Summary: In machine learning, reinforcement learning from human feedback (RLHF) is a technique to align an intelligent agent with human preferences. It involves training a reward model to represent preferences, which can then be used to train other models through reinforcement learning.\n",
      "In classical reinforcement learning, an intelligent agent's goal is to learn a function that guides its behavior, called a policy. This function is iteratively updated to maximize rewards based on the agent's task performance. However, explicitly defining a reward function that accurately approximates human preferences is challenging. Therefore, RLHF seeks to train a \"reward model\" directly from human feedback. The reward model is first trained in a supervised manner to predict if a response to a given prompt is good (high reward) or bad (low reward) based on ranking data collected from human annotators. This model then serves as a reward function to improve an agent's policy through an optimization algorithm like proximal policy optimization.\n",
      "\n",
      "RLHF has applications in various domains in machine learning, including natural language processing tasks such as text summarization and conversational agents, computer vision tasks like text-to-image models, and the development of video game bots. While RLHF is an effective method of training models to act better in accordance with human preferences, it also faces challenges due to the way the human preference data is collected. Though RLHF does not require massive amounts of data to improve performance, sourcing high-quality preference data is still an expensive process. Furthermore, if the data is not carefully collected from a representative sample, the resulting model may exhibit unwanted biases.\n",
      "\n",
      "\n",
      "\n",
      "\n",
      "Update from node agent:\n",
      "\n",
      "\n",
      "==================================\u001b[1m Ai Message \u001b[0m==================================\n",
      "Name: research_agent\n",
      "\n",
      "Reinforcement learning (RL) is a subfield of machine learning and optimal control that focuses on how an intelligent agent should take actions in a dynamic environment to maximize a reward signal. It is one of the three main paradigms of machine learning, alongside supervised and unsupervised learning.\n",
      "\n",
      "In reinforcement learning, an agent learns to make decisions by exploring different actions and receiving feedback in the form of rewards or penalties. Unlike supervised learning, RL does not rely on labeled input-output pairs, nor does it require explicit corrections for sub-optimal actions. Instead, it emphasizes a balance between exploration (trying new actions) and exploitation (using known information) to maximize cumulative rewards.\n",
      "\n",
      "The framework for most reinforcement learning problems is described through a Markov decision process (MDP), which helps in managing the complexities involved in decision-making processes. A key distinction between traditional dynamic programming and RL algorithms is that RL does not assume knowledge of a precise mathematical model of the MDP, making it suitable for larger and more complex decision problems.\n",
      "\n",
      "\n"
     ]
    }
   ],
   "source": [
    "config = {\"recursion_limit\": 10}\n",
    "for chunk in research_agent.stream(\n",
    "    {\n",
    "        \"messages\": [\n",
    "            {\n",
    "                \"role\": \"user\",\n",
    "                \"content\": \"What is reinforcement learning?\",\n",
    "            }\n",
    "        ]\n",
    "    },\n",
    "    config=config,\n",
    "):\n",
    "    pretty_print_messages(chunk)"
   ]
  },
  {
   "cell_type": "markdown",
   "id": "97a473b3",
   "metadata": {},
   "source": [
    "**Visual Agent AI**\n",
    "\n"
   ]
  },
  {
   "cell_type": "code",
   "execution_count": 93,
   "id": "b44b901c",
   "metadata": {},
   "outputs": [],
   "source": [
    "import base64\n",
    "\n",
    "from torch import imag\n",
    "\n",
    "def encode_image(image_path_or_url: str, get_nine_type: bool = False):\n",
    "    if image_path_or_url.startswith(\"http\"):\n",
    "        try:\n",
    "            response = requests.get(image_path_or_url)\n",
    "            response.raise_for_status()\n",
    "            image = response.content\n",
    "            nine_type = response.headers.get(\"Content-Type\", None)\n",
    "            base64_encode = base64.b64encode(image).decode(\"utf-8\")\n",
    "            if get_nine_type:\n",
    "                return base64_encode, nine_type\n",
    "            return base64_encode\n",
    "        except requests.exceptions.RequestException as e:\n",
    "            print(f\"Request_error: {e}\")\n",
    "            if get_nine_type:\n",
    "                return None, None\n",
    "            return None\n",
    "    else:\n",
    "        try:\n",
    "            nine_type = magic.Magic(mime=True).from_file(image_path_or_url)\n",
    "            if nine_type.startswith(\"image/\"):\n",
    "                with open(image_path_or_url, \"rb\") as f:\n",
    "                    image = f.read()\n",
    "                    base64_encode = base64.b64encode(image).decode(\"utf-8\")\n",
    "                    if get_nine_type:\n",
    "                        return base64_encode, None\n",
    "                return base64_encode\n",
    "        except Exception as e:\n",
    "            print(f\"File_error: {e}\")\n",
    "            if get_nine_type:\n",
    "                return None, None\n",
    "            return None\n",
    "    "
   ]
  },
  {
   "cell_type": "markdown",
   "id": "25c3764e",
   "metadata": {},
   "source": [
    "**URL Extractor**"
   ]
  },
  {
   "cell_type": "code",
   "execution_count": 109,
   "id": "49efd0e0",
   "metadata": {},
   "outputs": [],
   "source": [
    "from langchain_openai import ChatOpenAI\n",
    "llm = ChatOpenAI(model=\"gpt-4.1-nano\")"
   ]
  },
  {
   "cell_type": "code",
   "execution_count": 110,
   "id": "dff84a89",
   "metadata": {},
   "outputs": [
    {
     "data": {
      "text/plain": [
       "ImageInput(image_path_or_url='https://example.com/image.png')"
      ]
     },
     "execution_count": 110,
     "metadata": {},
     "output_type": "execute_result"
    }
   ],
   "source": [
    "from langchain.output_parsers import PydanticOutputParser\n",
    "from langchain.prompts import PromptTemplate\n",
    "from pydantic import BaseModel, Field\n",
    "\n",
    "class ImageInput(BaseModel):\n",
    "    image_path_or_url: str = Field(description=\"Path to image or URL\")\n",
    "\n",
    "parser = PydanticOutputParser(pydantic_object=ImageInput)\n",
    "\n",
    "prompt = PromptTemplate.from_template(\n",
    "    \"Extract the image path or URL from the following input:\\n\\n{input}\\n\\n{format_instructions}\"\n",
    ").partial(format_instructions=parser.get_format_instructions())\n",
    "\n",
    "extractor_chain = prompt | llm | parser\n",
    "output = extractor_chain.invoke({\"input\": 'image_path: \"https://example.com/image.png\"'})\n",
    "output"
   ]
  },
  {
   "cell_type": "markdown",
   "id": "e3e723cf",
   "metadata": {},
   "source": [
    "**Describer**"
   ]
  },
  {
   "cell_type": "code",
   "execution_count": 148,
   "id": "c307f9ae",
   "metadata": {},
   "outputs": [],
   "source": [
    "from pydantic import BaseModel, Field\n",
    "import requests\n",
    "from langchain.prompts import ChatPromptTemplate\n",
    "from langchain_core.messages import HumanMessage, SystemMessage\n",
    "\n",
    "class ImageDescription(BaseModel):\n",
    "    image_description: str = Field(description=\"Detailed description of the image\")\n",
    "\n",
    "def image_describer_chat_template_func(input: dict):\n",
    "    image_path_or_url = input[\"image_path_or_url\"]\n",
    "    image_b64, image_mime_type = encode_image(image_path_or_url, get_nine_type = True)\n",
    "\n",
    "    image_describer_chat_template = ChatPromptTemplate.from_messages([\n",
    "        SystemMessage(\n",
    "            content=\"\"\"You are an expert image describer. When presented with an image, provide a detailed, accurate, and objective description of its visible content. Focus on aspects such as:\n",
    "            - Objects present, their positions, and relationships\n",
    "            - Colors, lighting, composition, and textures\n",
    "            - Actions or dynamics, if any (e.g., people walking, water flowing)\n",
    "            - Contextual or inferred information (e.g., likely setting, era, or activity)\n",
    "\n",
    "            Avoid adding information that is not visible or cannot be reasonably inferred from the image. Do not speculate or inject personal opinion unless explicitly requested. If text appears in the image, transcribe it accurately.\"\"\"),\n",
    "        HumanMessage(content=[\n",
    "            {\"type\": \"text\", \"text\": \"Describe the following image for me:\"},\n",
    "            {\n",
    "                \"type\": \"image_url\",\n",
    "                \"image_url\": {\"url\": f\"data:{image_mime_type};base64,{image_b64}\", \"detail\": \"low\"}\n",
    "            }\n",
    "        ])\n",
    "    ])\n",
    "\n",
    "    return image_describer_chat_template.invoke({})"
   ]
  },
  {
   "cell_type": "code",
   "execution_count": 149,
   "id": "0fb4df0c",
   "metadata": {},
   "outputs": [
    {
     "data": {
      "text/plain": [
       "ImageDescription(image_description=\"A black and white silhouette of a cartoon cat with pointy ears and a curved tail, positioned in front of a solid black circle background. The cat's face is blank, with no facial features, and the overall style is minimalist and icon-like.\")"
      ]
     },
     "execution_count": 149,
     "metadata": {},
     "output_type": "execute_result"
    }
   ],
   "source": [
    "image_describer_agent = image_describer_chat_template_func | llm.with_structured_output(ImageDescription)\n",
    "image_describer_agent.invoke({\"image_path_or_url\": \"https://github.githubassets.com/assets/GitHub-Mark-ea2971cee799.png\"})"
   ]
  },
  {
   "cell_type": "code",
   "execution_count": 155,
   "id": "5c8c6ed1",
   "metadata": {},
   "outputs": [],
   "source": [
    "from langchain_core.tools import BaseTool\n",
    "from typing import Optional\n",
    "from langchain_core.tools.base import ArgsSchema\n",
    "from langchain_core.callbacks import AsyncCallbackManagerForToolRun, CallbackManagerForToolRun\n",
    "\n",
    "class ImageDescriberInput(BaseModel):\n",
    "    text: str = Field(description = \"Path or URL to the image in the format PNG or JPG/JPEG\")\n",
    "\n",
    "class ImageDescriberTool(BaseTool):\n",
    "    name: str = \"Image_describer\"\n",
    "    description: str = \"Use this tool to get a description of the image in a detailed way\"\n",
    "    args_schema: Optional[ArgsSchema]  = ImageDescriberInput\n",
    "    return_direct: bool = True\n",
    "    \n",
    "    def _run(self, text: str, run_manager: Optional[CallbackManagerForToolRun] = None) -> str:\n",
    "        try:\n",
    "            parsed: ImageInput = extractor_chain.invoke({\"input\": text})\n",
    "        except Exception as e:\n",
    "            return f\"Failed to extract image URL: {str(e)}\"\n",
    "\n",
    "        image_path_or_url = parsed.image_path_or_url\n",
    "        if not image_path_or_url:\n",
    "            return \"No Image or URL Found in the input\"\n",
    "        output = image_describer_agent.invoke({\"image_path_or_url\": image_path_or_url})\n",
    "        return output.image_description\n",
    "\n",
    "async def _arun(self, image_path_or_url: str, run_manager: Optional[AsyncCallbackManagerForToolRun] = None) -> str:\n",
    "    return self._run(image_path_or_url, run_manager = run_manager)\n",
    "    "
   ]
  },
  {
   "cell_type": "code",
   "execution_count": null,
   "id": "39d7ba6a",
   "metadata": {},
   "outputs": [
    {
     "data": {
      "text/plain": [
       "'The image contains a black circle with a white silhouette of a cat-like figure inside it. The silhouette features a rounded head with pointy ears, a small rounded body, and a curved tail pointing to the left. The design is simple and minimalistic, resembling the GitHub logo, which is a stylized depiction of a cat or fox.'"
      ]
     },
     "execution_count": 156,
     "metadata": {},
     "output_type": "execute_result"
    }
   ],
   "source": [
    "image_describer_tool = ImageDescriberTool()\n",
    "image_describer_tool.invoke(\"https://github.githubassets.com/assets/GitHub-Mark-ea2971cee799.png\")"
   ]
  },
  {
   "cell_type": "markdown",
   "id": "5f0eaf1e",
   "metadata": {},
   "source": [
    "**Detection**"
   ]
  },
  {
   "cell_type": "code",
   "execution_count": 159,
   "id": "7a324d85",
   "metadata": {},
   "outputs": [
    {
     "name": "stdout",
     "output_type": "stream",
     "text": [
      "Collecting ultralytics\n",
      "  Downloading ultralytics-8.3.145-py3-none-any.whl.metadata (37 kB)\n",
      "Requirement already satisfied: numpy>=1.23.0 in c:\\users\\asus\\appdata\\local\\packages\\pythonsoftwarefoundation.python.3.11_qbz5n2kfra8p0\\localcache\\local-packages\\python311\\site-packages (from ultralytics) (2.2.3)\n",
      "Requirement already satisfied: matplotlib>=3.3.0 in c:\\users\\asus\\appdata\\local\\packages\\pythonsoftwarefoundation.python.3.11_qbz5n2kfra8p0\\localcache\\local-packages\\python311\\site-packages (from ultralytics) (3.10.3)\n",
      "Requirement already satisfied: opencv-python>=4.6.0 in c:\\users\\asus\\appdata\\local\\packages\\pythonsoftwarefoundation.python.3.11_qbz5n2kfra8p0\\localcache\\local-packages\\python311\\site-packages (from ultralytics) (4.11.0.86)\n",
      "Requirement already satisfied: pillow>=7.1.2 in c:\\users\\asus\\appdata\\local\\packages\\pythonsoftwarefoundation.python.3.11_qbz5n2kfra8p0\\localcache\\local-packages\\python311\\site-packages (from ultralytics) (11.0.0)\n",
      "Requirement already satisfied: pyyaml>=5.3.1 in c:\\users\\asus\\appdata\\local\\packages\\pythonsoftwarefoundation.python.3.11_qbz5n2kfra8p0\\localcache\\local-packages\\python311\\site-packages (from ultralytics) (6.0.2)\n",
      "Requirement already satisfied: requests>=2.23.0 in c:\\users\\asus\\appdata\\local\\packages\\pythonsoftwarefoundation.python.3.11_qbz5n2kfra8p0\\localcache\\local-packages\\python311\\site-packages (from ultralytics) (2.32.3)\n",
      "Collecting scipy>=1.4.1 (from ultralytics)\n",
      "  Downloading scipy-1.15.3-cp311-cp311-win_amd64.whl.metadata (60 kB)\n",
      "Requirement already satisfied: torch>=1.8.0 in c:\\users\\asus\\appdata\\local\\packages\\pythonsoftwarefoundation.python.3.11_qbz5n2kfra8p0\\localcache\\local-packages\\python311\\site-packages (from ultralytics) (2.6.0)\n",
      "Requirement already satisfied: torchvision>=0.9.0 in c:\\users\\asus\\appdata\\local\\packages\\pythonsoftwarefoundation.python.3.11_qbz5n2kfra8p0\\localcache\\local-packages\\python311\\site-packages (from ultralytics) (0.21.0)\n",
      "Requirement already satisfied: tqdm>=4.64.0 in c:\\users\\asus\\appdata\\local\\packages\\pythonsoftwarefoundation.python.3.11_qbz5n2kfra8p0\\localcache\\local-packages\\python311\\site-packages (from ultralytics) (4.67.1)\n",
      "Requirement already satisfied: psutil in c:\\users\\asus\\appdata\\local\\packages\\pythonsoftwarefoundation.python.3.11_qbz5n2kfra8p0\\localcache\\local-packages\\python311\\site-packages (from ultralytics) (7.0.0)\n",
      "Collecting py-cpuinfo (from ultralytics)\n",
      "  Using cached py_cpuinfo-9.0.0-py3-none-any.whl.metadata (794 bytes)\n",
      "Requirement already satisfied: pandas>=1.1.4 in c:\\users\\asus\\appdata\\local\\packages\\pythonsoftwarefoundation.python.3.11_qbz5n2kfra8p0\\localcache\\local-packages\\python311\\site-packages (from ultralytics) (2.2.3)\n",
      "Collecting ultralytics-thop>=2.0.0 (from ultralytics)\n",
      "  Downloading ultralytics_thop-2.0.14-py3-none-any.whl.metadata (9.4 kB)\n",
      "Requirement already satisfied: contourpy>=1.0.1 in c:\\users\\asus\\appdata\\local\\packages\\pythonsoftwarefoundation.python.3.11_qbz5n2kfra8p0\\localcache\\local-packages\\python311\\site-packages (from matplotlib>=3.3.0->ultralytics) (1.3.2)\n",
      "Requirement already satisfied: cycler>=0.10 in c:\\users\\asus\\appdata\\local\\packages\\pythonsoftwarefoundation.python.3.11_qbz5n2kfra8p0\\localcache\\local-packages\\python311\\site-packages (from matplotlib>=3.3.0->ultralytics) (0.12.1)\n",
      "Requirement already satisfied: fonttools>=4.22.0 in c:\\users\\asus\\appdata\\local\\packages\\pythonsoftwarefoundation.python.3.11_qbz5n2kfra8p0\\localcache\\local-packages\\python311\\site-packages (from matplotlib>=3.3.0->ultralytics) (4.58.0)\n",
      "Requirement already satisfied: kiwisolver>=1.3.1 in c:\\users\\asus\\appdata\\local\\packages\\pythonsoftwarefoundation.python.3.11_qbz5n2kfra8p0\\localcache\\local-packages\\python311\\site-packages (from matplotlib>=3.3.0->ultralytics) (1.4.8)\n",
      "Requirement already satisfied: packaging>=20.0 in c:\\users\\asus\\appdata\\local\\packages\\pythonsoftwarefoundation.python.3.11_qbz5n2kfra8p0\\localcache\\local-packages\\python311\\site-packages (from matplotlib>=3.3.0->ultralytics) (24.2)\n",
      "Requirement already satisfied: pyparsing>=2.3.1 in c:\\users\\asus\\appdata\\local\\packages\\pythonsoftwarefoundation.python.3.11_qbz5n2kfra8p0\\localcache\\local-packages\\python311\\site-packages (from matplotlib>=3.3.0->ultralytics) (3.2.3)\n",
      "Requirement already satisfied: python-dateutil>=2.7 in c:\\users\\asus\\appdata\\local\\packages\\pythonsoftwarefoundation.python.3.11_qbz5n2kfra8p0\\localcache\\local-packages\\python311\\site-packages (from matplotlib>=3.3.0->ultralytics) (2.9.0.post0)\n",
      "Requirement already satisfied: pytz>=2020.1 in c:\\users\\asus\\appdata\\local\\packages\\pythonsoftwarefoundation.python.3.11_qbz5n2kfra8p0\\localcache\\local-packages\\python311\\site-packages (from pandas>=1.1.4->ultralytics) (2025.2)\n",
      "Requirement already satisfied: tzdata>=2022.7 in c:\\users\\asus\\appdata\\local\\packages\\pythonsoftwarefoundation.python.3.11_qbz5n2kfra8p0\\localcache\\local-packages\\python311\\site-packages (from pandas>=1.1.4->ultralytics) (2025.2)\n",
      "Requirement already satisfied: charset-normalizer<4,>=2 in c:\\users\\asus\\appdata\\local\\packages\\pythonsoftwarefoundation.python.3.11_qbz5n2kfra8p0\\localcache\\local-packages\\python311\\site-packages (from requests>=2.23.0->ultralytics) (3.4.1)\n",
      "Requirement already satisfied: idna<4,>=2.5 in c:\\users\\asus\\appdata\\local\\packages\\pythonsoftwarefoundation.python.3.11_qbz5n2kfra8p0\\localcache\\local-packages\\python311\\site-packages (from requests>=2.23.0->ultralytics) (3.10)\n",
      "Requirement already satisfied: urllib3<3,>=1.21.1 in c:\\users\\asus\\appdata\\local\\packages\\pythonsoftwarefoundation.python.3.11_qbz5n2kfra8p0\\localcache\\local-packages\\python311\\site-packages (from requests>=2.23.0->ultralytics) (2.4.0)\n",
      "Requirement already satisfied: certifi>=2017.4.17 in c:\\users\\asus\\appdata\\local\\packages\\pythonsoftwarefoundation.python.3.11_qbz5n2kfra8p0\\localcache\\local-packages\\python311\\site-packages (from requests>=2.23.0->ultralytics) (2025.1.31)\n",
      "Requirement already satisfied: filelock in c:\\users\\asus\\appdata\\local\\packages\\pythonsoftwarefoundation.python.3.11_qbz5n2kfra8p0\\localcache\\local-packages\\python311\\site-packages (from torch>=1.8.0->ultralytics) (3.18.0)\n",
      "Requirement already satisfied: typing-extensions>=4.10.0 in c:\\users\\asus\\appdata\\local\\packages\\pythonsoftwarefoundation.python.3.11_qbz5n2kfra8p0\\localcache\\local-packages\\python311\\site-packages (from torch>=1.8.0->ultralytics) (4.13.2)\n",
      "Requirement already satisfied: networkx in c:\\users\\asus\\appdata\\local\\packages\\pythonsoftwarefoundation.python.3.11_qbz5n2kfra8p0\\localcache\\local-packages\\python311\\site-packages (from torch>=1.8.0->ultralytics) (3.3)\n",
      "Requirement already satisfied: jinja2 in c:\\users\\asus\\appdata\\local\\packages\\pythonsoftwarefoundation.python.3.11_qbz5n2kfra8p0\\localcache\\local-packages\\python311\\site-packages (from torch>=1.8.0->ultralytics) (3.1.6)\n",
      "Requirement already satisfied: fsspec in c:\\users\\asus\\appdata\\local\\packages\\pythonsoftwarefoundation.python.3.11_qbz5n2kfra8p0\\localcache\\local-packages\\python311\\site-packages (from torch>=1.8.0->ultralytics) (2024.12.0)\n",
      "Requirement already satisfied: sympy==1.13.1 in c:\\users\\asus\\appdata\\local\\packages\\pythonsoftwarefoundation.python.3.11_qbz5n2kfra8p0\\localcache\\local-packages\\python311\\site-packages (from torch>=1.8.0->ultralytics) (1.13.1)\n",
      "Requirement already satisfied: mpmath<1.4,>=1.1.0 in c:\\users\\asus\\appdata\\local\\packages\\pythonsoftwarefoundation.python.3.11_qbz5n2kfra8p0\\localcache\\local-packages\\python311\\site-packages (from sympy==1.13.1->torch>=1.8.0->ultralytics) (1.3.0)\n",
      "Requirement already satisfied: colorama in c:\\users\\asus\\appdata\\local\\packages\\pythonsoftwarefoundation.python.3.11_qbz5n2kfra8p0\\localcache\\local-packages\\python311\\site-packages (from tqdm>=4.64.0->ultralytics) (0.4.6)\n",
      "Requirement already satisfied: six>=1.5 in c:\\users\\asus\\appdata\\local\\packages\\pythonsoftwarefoundation.python.3.11_qbz5n2kfra8p0\\localcache\\local-packages\\python311\\site-packages (from python-dateutil>=2.7->matplotlib>=3.3.0->ultralytics) (1.17.0)\n",
      "Requirement already satisfied: MarkupSafe>=2.0 in c:\\users\\asus\\appdata\\local\\packages\\pythonsoftwarefoundation.python.3.11_qbz5n2kfra8p0\\localcache\\local-packages\\python311\\site-packages (from jinja2->torch>=1.8.0->ultralytics) (3.0.2)\n",
      "Downloading ultralytics-8.3.145-py3-none-any.whl (1.0 MB)\n",
      "   ---------------------------------------- 0.0/1.0 MB ? eta -:--:--\n",
      "   ---------- ----------------------------- 0.3/1.0 MB ? eta -:--:--\n",
      "   -------------------- ------------------- 0.5/1.0 MB 1.9 MB/s eta 0:00:01\n",
      "   ---------------------------------------- 1.0/1.0 MB 2.0 MB/s eta 0:00:00\n",
      "Downloading scipy-1.15.3-cp311-cp311-win_amd64.whl (41.2 MB)\n",
      "   ---------------------------------------- 0.0/41.2 MB ? eta -:--:--\n",
      "   ---------------------------------------- 0.3/41.2 MB ? eta -:--:--\n",
      "    --------------------------------------- 0.8/41.2 MB 2.4 MB/s eta 0:00:17\n",
      "   - -------------------------------------- 1.3/41.2 MB 2.4 MB/s eta 0:00:17\n",
      "   -- ------------------------------------- 2.1/41.2 MB 2.6 MB/s eta 0:00:16\n",
      "   -- ------------------------------------- 2.4/41.2 MB 2.3 MB/s eta 0:00:18\n",
      "   -- ------------------------------------- 2.9/41.2 MB 2.4 MB/s eta 0:00:17\n",
      "   --- ------------------------------------ 3.4/41.2 MB 2.4 MB/s eta 0:00:16\n",
      "   --- ------------------------------------ 3.9/41.2 MB 2.4 MB/s eta 0:00:16\n",
      "   ---- ----------------------------------- 4.5/41.2 MB 2.5 MB/s eta 0:00:15\n",
      "   ---- ----------------------------------- 5.0/41.2 MB 2.5 MB/s eta 0:00:15\n",
      "   ----- ---------------------------------- 5.5/41.2 MB 2.5 MB/s eta 0:00:15\n",
      "   ------ --------------------------------- 6.3/41.2 MB 2.5 MB/s eta 0:00:14\n",
      "   ------ --------------------------------- 6.8/41.2 MB 2.5 MB/s eta 0:00:14\n",
      "   ------- -------------------------------- 7.6/41.2 MB 2.6 MB/s eta 0:00:14\n",
      "   ------- -------------------------------- 8.1/41.2 MB 2.6 MB/s eta 0:00:13\n",
      "   -------- ------------------------------- 8.7/41.2 MB 2.6 MB/s eta 0:00:13\n",
      "   --------- ------------------------------ 9.4/41.2 MB 2.6 MB/s eta 0:00:13\n",
      "   --------- ------------------------------ 10.0/41.2 MB 2.6 MB/s eta 0:00:12\n",
      "   ---------- ----------------------------- 10.5/41.2 MB 2.7 MB/s eta 0:00:12\n",
      "   ---------- ----------------------------- 11.3/41.2 MB 2.7 MB/s eta 0:00:12\n",
      "   ----------- ---------------------------- 12.1/41.2 MB 2.7 MB/s eta 0:00:11\n",
      "   ------------ --------------------------- 12.8/41.2 MB 2.8 MB/s eta 0:00:11\n",
      "   ------------- -------------------------- 13.6/41.2 MB 2.8 MB/s eta 0:00:10\n",
      "   ------------- -------------------------- 14.2/41.2 MB 2.8 MB/s eta 0:00:10\n",
      "   -------------- ------------------------- 14.7/41.2 MB 2.8 MB/s eta 0:00:10\n",
      "   -------------- ------------------------- 15.2/41.2 MB 2.8 MB/s eta 0:00:10\n",
      "   --------------- ------------------------ 16.0/41.2 MB 2.8 MB/s eta 0:00:10\n",
      "   ---------------- ----------------------- 16.8/41.2 MB 2.8 MB/s eta 0:00:09\n",
      "   ----------------- ---------------------- 17.6/41.2 MB 2.9 MB/s eta 0:00:09\n",
      "   ----------------- ---------------------- 18.4/41.2 MB 2.9 MB/s eta 0:00:08\n",
      "   ------------------ --------------------- 19.1/41.2 MB 2.9 MB/s eta 0:00:08\n",
      "   ------------------- -------------------- 19.9/41.2 MB 3.0 MB/s eta 0:00:08\n",
      "   -------------------- ------------------- 20.7/41.2 MB 3.0 MB/s eta 0:00:07\n",
      "   -------------------- ------------------- 21.5/41.2 MB 3.0 MB/s eta 0:00:07\n",
      "   --------------------- ------------------ 22.3/41.2 MB 3.0 MB/s eta 0:00:07\n",
      "   ---------------------- ----------------- 23.3/41.2 MB 3.1 MB/s eta 0:00:06\n",
      "   ----------------------- ---------------- 24.1/41.2 MB 3.1 MB/s eta 0:00:06\n",
      "   ------------------------ --------------- 24.9/41.2 MB 3.1 MB/s eta 0:00:06\n",
      "   ------------------------ --------------- 25.7/41.2 MB 3.1 MB/s eta 0:00:05\n",
      "   ------------------------- -------------- 26.7/41.2 MB 3.2 MB/s eta 0:00:05\n",
      "   -------------------------- ------------- 27.5/41.2 MB 3.2 MB/s eta 0:00:05\n",
      "   --------------------------- ------------ 28.6/41.2 MB 3.2 MB/s eta 0:00:04\n",
      "   ---------------------------- ----------- 29.4/41.2 MB 3.2 MB/s eta 0:00:04\n",
      "   ----------------------------- ---------- 30.1/41.2 MB 3.2 MB/s eta 0:00:04\n",
      "   ----------------------------- ---------- 30.9/41.2 MB 3.3 MB/s eta 0:00:04\n",
      "   ------------------------------ --------- 31.7/41.2 MB 3.3 MB/s eta 0:00:03\n",
      "   ------------------------------- -------- 32.5/41.2 MB 3.3 MB/s eta 0:00:03\n",
      "   -------------------------------- ------- 33.3/41.2 MB 3.3 MB/s eta 0:00:03\n",
      "   -------------------------------- ------- 33.8/41.2 MB 3.3 MB/s eta 0:00:03\n",
      "   --------------------------------- ------ 34.6/41.2 MB 3.3 MB/s eta 0:00:03\n",
      "   ---------------------------------- ----- 35.4/41.2 MB 3.3 MB/s eta 0:00:02\n",
      "   ----------------------------------- ---- 36.2/41.2 MB 3.3 MB/s eta 0:00:02\n",
      "   ----------------------------------- ---- 37.0/41.2 MB 3.3 MB/s eta 0:00:02\n",
      "   ------------------------------------ --- 37.7/41.2 MB 3.3 MB/s eta 0:00:02\n",
      "   ------------------------------------- -- 38.5/41.2 MB 3.3 MB/s eta 0:00:01\n",
      "   -------------------------------------- - 39.6/41.2 MB 3.3 MB/s eta 0:00:01\n",
      "   ---------------------------------------  40.4/41.2 MB 3.3 MB/s eta 0:00:01\n",
      "   ---------------------------------------  41.2/41.2 MB 3.4 MB/s eta 0:00:01\n",
      "   ---------------------------------------- 41.2/41.2 MB 3.3 MB/s eta 0:00:00\n",
      "Downloading ultralytics_thop-2.0.14-py3-none-any.whl (26 kB)\n",
      "Using cached py_cpuinfo-9.0.0-py3-none-any.whl (22 kB)\n",
      "Installing collected packages: py-cpuinfo, scipy, ultralytics-thop, ultralytics\n",
      "Successfully installed py-cpuinfo-9.0.0 scipy-1.15.3 ultralytics-8.3.145 ultralytics-thop-2.0.14\n",
      "Note: you may need to restart the kernel to use updated packages.\n"
     ]
    },
    {
     "name": "stderr",
     "output_type": "stream",
     "text": [
      "\n",
      "[notice] A new release of pip is available: 25.0.1 -> 25.1.1\n",
      "[notice] To update, run: C:\\Users\\ASUS\\AppData\\Local\\Microsoft\\WindowsApps\\PythonSoftwareFoundation.Python.3.11_qbz5n2kfra8p0\\python.exe -m pip install --upgrade pip\n"
     ]
    }
   ],
   "source": [
    "%pip install ultralytics"
   ]
  },
  {
   "cell_type": "code",
   "execution_count": 160,
   "id": "44d6d6a4",
   "metadata": {},
   "outputs": [
    {
     "name": "stdout",
     "output_type": "stream",
     "text": [
      "Creating new Ultralytics Settings v0.0.6 file  \n",
      "View Ultralytics Settings with 'yolo settings' or at 'C:\\Users\\ASUS\\AppData\\Roaming\\Ultralytics\\settings.json'\n",
      "Update Settings with 'yolo settings key=value', i.e. 'yolo settings runs_dir=path/to/dir'. For help see https://docs.ultralytics.com/quickstart/#ultralytics-settings.\n",
      "Downloading https://github.com/ultralytics/assets/releases/download/v8.3.0/yolo11x.pt to 'yolo11x.pt'...\n"
     ]
    },
    {
     "name": "stderr",
     "output_type": "stream",
     "text": [
      "100%|██████████| 109M/109M [00:34<00:00, 3.37MB/s] \n"
     ]
    }
   ],
   "source": [
    "from ultralytics import YOLO\n",
    "\n",
    "yolo_model = YOLO(\"yolo11x.pt\")"
   ]
  },
  {
   "cell_type": "code",
   "execution_count": 161,
   "id": "66671137",
   "metadata": {},
   "outputs": [
    {
     "name": "stdout",
     "output_type": "stream",
     "text": [
      "Downloading https://s3.amazonaws.com/cdn-origin-etr.akc.org/wp-content/uploads/2018/04/24144817/American-Staffordshire-Terrier-lying-outdoors-next-to-a-kitten-that-is-playing-with-the-dogs-nose.jpg to 'American-Staffordshire-Terrier-lying-outdoors-next-to-a-kitten-that-is-playing-with-the-dogs-nose.jpg'...\n"
     ]
    },
    {
     "name": "stderr",
     "output_type": "stream",
     "text": [
      "100%|██████████| 61.7k/61.7k [00:00<00:00, 115kB/s]\n",
      "C:\\Users\\ASUS\\AppData\\Local\\Packages\\PythonSoftwareFoundation.Python.3.11_qbz5n2kfra8p0\\LocalCache\\local-packages\\Python311\\site-packages\\triton\\windows_utils.py:433: UserWarning: Failed to find CUDA.\n",
      "  warnings.warn(\"Failed to find CUDA.\")\n"
     ]
    }
   ],
   "source": [
    "results = yolo_model.predict(\n",
    "    \"https://s3.amazonaws.com/cdn-origin-etr.akc.org/wp-content/uploads/2018/04/24144817/American-Staffordshire-Terrier-lying-outdoors-next-to-a-kitten-that-is-playing-with-the-dogs-nose.jpg\", verbose=False)\n",
    "\n",
    "results[0].show()"
   ]
  },
  {
   "cell_type": "code",
   "execution_count": 172,
   "id": "60c58c91",
   "metadata": {},
   "outputs": [],
   "source": [
    "from typing import Annotated\n",
    "from langchain_core.tools import tool\n",
    "\n",
    "class ObjectDetectionAndCountingInput(BaseModel):\n",
    "    text: str = Field(description=\"Path or URL to the image in the format PNG or JPG/JPEG\")\n",
    "\n",
    "@tool(\n",
    "    \"Object Detection and Counting\",\n",
    "    description=\"Use this tool to detect objects in an image and count the number of objects of each type.\",\n",
    "    args_schema=ObjectDetectionAndCountingInput\n",
    ")\n",
    "def detect_and_count_object_tool(\n",
    "    text: Annotated[str, \"Path or URL to the image\"]\n",
    "):\n",
    "    try:\n",
    "        parsed: ImageInput = extractor_chain.invoke({\"input\": text})\n",
    "    except Exception as e:\n",
    "        return f\"Failed to extract image URL: {str(e)}\"\n",
    "    \n",
    "    image_path_or_url = parsed.image_path_or_url\n",
    "    if not image_path_or_url:\n",
    "        return \"No image URL found in the input\"\n",
    "    results = yolo_model(image_path_or_url, verbose=False)\n",
    "\n",
    "    detection = []\n",
    "    counting = {}\n",
    "\n",
    "    for result in results:\n",
    "        boxes = result.boxes\n",
    "        class_names = result.names\n",
    "        for box in boxes:\n",
    "            class_id = int(box.cls[0])\n",
    "            class_name = class_names[class_id]\n",
    "            confidence = float(box.conf[0])\n",
    "            x1 ,y1, x2, y2 = map(int, box.xyxy[0])\n",
    "            detection.append({\n",
    "                \"class_name\": class_name,\n",
    "                \"confidence\": confidence,\n",
    "                \"bbox\": [x1, y1, x2, y2]\n",
    "            })\n",
    "          \n",
    "            counting[class_name] = counting.get(class_name, 0) + 1\n",
    "    \n",
    "    return str({\n",
    "        \"detection\": detection,\n",
    "        \"counting\": counting\n",
    "    })\n",
    "\n",
    "\n",
    "\n",
    "        "
   ]
  },
  {
   "cell_type": "code",
   "execution_count": 173,
   "id": "b17536b4",
   "metadata": {},
   "outputs": [
    {
     "name": "stdout",
     "output_type": "stream",
     "text": [
      "Found https://s3.amazonaws.com/cdn-origin-etr.akc.org/wp-content/uploads/2018/04/24144817/American-Staffordshire-Terrier-lying-outdoors-next-to-a-kitten-that-is-playing-with-the-dogs-nose.jpg locally at American-Staffordshire-Terrier-lying-outdoors-next-to-a-kitten-that-is-playing-with-the-dogs-nose.jpg\n"
     ]
    },
    {
     "data": {
      "text/plain": [
       "\"{'detection': [{'class_name': 'dog', 'confidence': 0.9411599040031433, 'bbox': [287, 73, 618, 445]}, {'class_name': 'dog', 'confidence': 0.8354384899139404, 'bbox': [159, 120, 369, 418]}], 'counting': {'dog': 2}}\""
      ]
     },
     "execution_count": 173,
     "metadata": {},
     "output_type": "execute_result"
    }
   ],
   "source": [
    "detect_and_count_object_tool.invoke(\"https://s3.amazonaws.com/cdn-origin-etr.akc.org/wp-content/uploads/2018/04/24144817/American-Staffordshire-Terrier-lying-outdoors-next-to-a-kitten-that-is-playing-with-the-dogs-nose.jpg\")"
   ]
  },
  {
   "cell_type": "code",
   "execution_count": 190,
   "id": "247e5677",
   "metadata": {},
   "outputs": [],
   "source": [
    "multi_agent_visual_assistant = create_react_agent(\n",
    "    model = \"gpt-4o-mini\",\n",
    "    tools = [image_describer_tool, detect_and_count_object_tool],\n",
    "    prompt = (\n",
    "        \"You are a multi_agent visual assistant.\"\n",
    "        \"Assist only with visual task (e.g. image description, object detection and counting).\"\n",
    "        \"Do not assist with non-visual task (e.g. text processing, data analysis, etc.)\"\n",
    "        \"After completing your task respond to the supervisor with the result.\"\n",
    "        \"Respond ONLY with the results of your works, DO NOT include any explanation or additional information.\\n\"\n",
    "    ),\n",
    "    name = \"multi_agent_visual_assistant\"\n",
    "\n",
    ")"
   ]
  },
  {
   "cell_type": "code",
   "execution_count": 192,
   "id": "929dc917",
   "metadata": {},
   "outputs": [],
   "source": [
    "# Then create the agent\n",
    "multi_agent_visual_assistant = create_react_agent(\n",
    "    model=\"gpt-4o-mini\",\n",
    "    tools=[image_describer_tool, detect_and_count_object_tool],\n",
    "    prompt=(\n",
    "        \"You are a multi_agent visual assistant. \"\n",
    "        \"Assist only with visual tasks (e.g., image description, object detection and counting). \"\n",
    "        \"Do not assist with non-visual tasks (e.g., text processing, data analysis, etc.). \"\n",
    "        \"After completing your task, respond to the supervisor with the result. \"\n",
    "        \"Respond ONLY with the results of your work, DO NOT include any explanation or additional information.\"\n",
    "    ),\n",
    "    name=\"multi_agent_visual_assistant\"\n",
    ")"
   ]
  },
  {
   "cell_type": "code",
   "execution_count": 200,
   "id": "ef1086b6",
   "metadata": {},
   "outputs": [
    {
     "name": "stdout",
     "output_type": "stream",
     "text": [
      "Update from node agent:\n",
      "\n",
      "\n",
      "==================================\u001b[1m Ai Message \u001b[0m==================================\n",
      "Name: multi_agent_visual_assistant\n",
      "Tool Calls:\n",
      "  detect_and_count_objects (call_e4at7QefFN5auWnjE0JIGgA4)\n",
      " Call ID: call_e4at7QefFN5auWnjE0JIGgA4\n",
      "  Args:\n",
      "    text: https://s3.amazonaws.com/cdn-origin-etr.akc.org/wp-content/uploads/2018/04/24144817/American-Staffordshire-Terrier-lying-outdoors-next-to-a-kitten-that-is-playing-with-the-dogs-nose.jpg\n",
      "\n",
      "\n",
      "Found https://s3.amazonaws.com/cdn-origin-etr.akc.org/wp-content/uploads/2018/04/24144817/American-Staffordshire-Terrier-lying-outdoors-next-to-a-kitten-that-is-playing-with-the-dogs-nose.jpg locally at American-Staffordshire-Terrier-lying-outdoors-next-to-a-kitten-that-is-playing-with-the-dogs-nose.jpg\n",
      "Update from node tools:\n",
      "\n",
      "\n",
      "=================================\u001b[1m Tool Message \u001b[0m=================================\n",
      "Name: detect_and_count_objects\n",
      "\n",
      "{'detection': [{'class_name': 'dog', 'confidence': 0.9411599040031433, 'bbox': [287, 73, 618, 445]}, {'class_name': 'dog', 'confidence': 0.8354384899139404, 'bbox': [159, 120, 369, 418]}], 'counting': {'dog': 2}}\n",
      "\n",
      "\n",
      "Update from node agent:\n",
      "\n",
      "\n",
      "==================================\u001b[1m Ai Message \u001b[0m==================================\n",
      "Name: multi_agent_visual_assistant\n",
      "\n",
      "There are 2 dogs in the image.\n",
      "\n",
      "\n"
     ]
    }
   ],
   "source": [
    "\n",
    "for chunk in multi_agent_visual_assistant.stream(\n",
    "    {\n",
    "        \"messages\" : [{\n",
    "            \"role\": \"user\",\n",
    "            \"content\": \"How many Dog in this image? : https://s3.amazonaws.com/cdn-origin-etr.akc.org/wp-content/uploads/2018/04/24144817/American-Staffordshire-Terrier-lying-outdoors-next-to-a-kitten-that-is-playing-with-the-dogs-nose.jpg\",\n",
    "        },]\n",
    "    },\n",
    "):\n",
    "    pretty_print_messages(chunk)\n",
    "    "
   ]
  },
  {
   "cell_type": "markdown",
   "id": "9601e770",
   "metadata": {},
   "source": [
    "**Supervisor**"
   ]
  },
  {
   "cell_type": "code",
   "execution_count": 202,
   "id": "0db72936",
   "metadata": {},
   "outputs": [],
   "source": [
    "supervisor = create_supervisor(\n",
    "    model = init_chat_model(\"gpt-4o-mini\"),\n",
    "    agents = [research_agent, multi_agent_visual_assistant],\n",
    "    prompt = (\n",
    "        \"You are a supervisor managing two agents:\\n\"\n",
    "        \"- a research agent. Assign research-related tasks to this agent\\n\"\n",
    "        \"- a math agent. Assign math-related tasks to this agent\\n\"\n",
    "        \"Assign work to one agent at a time, do not call agents in parallel.\\n\"\n",
    "        \"Do not do any work yourself.\\n\"\n",
    "        \"Do not call multiple agents in parallel.\\n\"\n",
    "        \"Do not perform any work yourself.\\n\"\n",
    "        \"Be concise and do not include any additional information, ONLY provide what is necessary for them to complete the job.\\n\"\n",
    "    ),\n",
    "    add_handoff_back_messages=True,\n",
    "    output_mode=\"full_history\",\n",
    ").compile()\n",
    "    \n",
    "    "
   ]
  },
  {
   "cell_type": "code",
   "execution_count": 203,
   "id": "e8a972b8",
   "metadata": {},
   "outputs": [
    {
     "name": "stdout",
     "output_type": "stream",
     "text": [
      "Update from node supervisor:\n",
      "\n",
      "\n",
      "=================================\u001b[1m Tool Message \u001b[0m=================================\n",
      "Name: transfer_to_research_agent\n",
      "\n",
      "Successfully transferred to research_agent\n",
      "\n",
      "\n",
      "Update from node research_agent:\n",
      "\n",
      "\n",
      "=================================\u001b[1m Tool Message \u001b[0m=================================\n",
      "Name: transfer_back_to_supervisor\n",
      "\n",
      "Successfully transferred back to supervisor\n",
      "\n",
      "\n",
      "Update from node supervisor:\n",
      "\n",
      "\n",
      "==================================\u001b[1m Ai Message \u001b[0m==================================\n",
      "Name: supervisor\n",
      "\n",
      "The United States has a population that constitutes approximately 4.23% of the total world population.\n",
      "\n",
      "\n"
     ]
    }
   ],
   "source": [
    "for chunk in supervisor.stream(\n",
    "    {\n",
    "        \"messages\":[\n",
    "            {\n",
    "                \"role\": \"user\",\n",
    "                \"content\": \"What is percentile of USA in this picture? : https://th.bing.com/th/id/OIP.X9MJLjA_o0DCx-Aq7-6DpAHaId?cb=iwc2&rs=1&pid=ImgDetMain\"\n",
    "            },\n",
    "        ]\n",
    "    },\n",
    "):\n",
    "    pretty_print_messages(chunk, last_message=True)\n",
    "final_message_history = chunk[\"supervisor\"][\"messages\"]"
   ]
  },
  {
   "cell_type": "code",
   "execution_count": 204,
   "id": "15d49d73",
   "metadata": {},
   "outputs": [
    {
     "name": "stdout",
     "output_type": "stream",
     "text": [
      "Update from node supervisor:\n",
      "\n",
      "\n",
      "=================================\u001b[1m Tool Message \u001b[0m=================================\n",
      "Name: transfer_to_research_agent\n",
      "\n",
      "Successfully transferred to research_agent\n",
      "\n",
      "\n",
      "Update from node research_agent:\n",
      "\n",
      "\n",
      "=================================\u001b[1m Tool Message \u001b[0m=================================\n",
      "Name: transfer_back_to_supervisor\n",
      "\n",
      "Successfully transferred back to supervisor\n",
      "\n",
      "\n",
      "Update from node supervisor:\n",
      "\n",
      "\n",
      "==================================\u001b[1m Ai Message \u001b[0m==================================\n",
      "Name: supervisor\n",
      "\n",
      "I have gathered detailed information about ropes, including their significance, advancements in materials science, and relevant research papers. If you need further assistance, please let me know!\n",
      "\n",
      "\n"
     ]
    }
   ],
   "source": [
    "for chunk in supervisor.stream(\n",
    "    {\n",
    "        \"messages\": [\n",
    "            {\n",
    "                \"role\": \"user\",\n",
    "                \"content\": \"What is the concept visualized in the image? Image: https://huggingface.co/datasets/tmnam20/Storage/resolve/main/rope.png Provide me detailed information about the concept. If possible, give me some research papers about it.\",\n",
    "            }\n",
    "        ]\n",
    "    },\n",
    "):\n",
    "    pretty_print_messages(chunk, last_message=True)\n",
    "\n",
    "final_message_history = chunk[\"supervisor\"][\"messages\"]"
   ]
  },
  {
   "cell_type": "code",
   "execution_count": 205,
   "id": "4b7179d5",
   "metadata": {},
   "outputs": [
    {
     "name": "stdout",
     "output_type": "stream",
     "text": [
      "Update from node supervisor:\n",
      "\n",
      "\n",
      "=================================\u001b[1m Tool Message \u001b[0m=================================\n",
      "Name: transfer_to_research_agent\n",
      "\n",
      "Successfully transferred to research_agent\n",
      "\n",
      "\n",
      "Update from node research_agent:\n",
      "\n",
      "\n",
      "=================================\u001b[1m Tool Message \u001b[0m=================================\n",
      "Name: transfer_back_to_supervisor\n",
      "\n",
      "Successfully transferred back to supervisor\n",
      "\n",
      "\n",
      "Update from node supervisor:\n",
      "\n",
      "\n",
      "==================================\u001b[1m Ai Message \u001b[0m==================================\n",
      "Name: supervisor\n",
      "\n",
      "Now I will assign a task to the math agent. \n",
      "\n",
      "Calculating the area of a rectangle with a length of 10 units and a width of 5 units. Please perform this calculation.\n",
      "\n",
      "\n"
     ]
    }
   ],
   "source": [
    "for chunk in supervisor.stream(\n",
    "    {\n",
    "        \"messages\": [\n",
    "            {\n",
    "                \"role\": \"user\",\n",
    "                \"content\": \"How many dogs are there in the image? Image: https://github.githubassets.com/assets/GitHub-Mark-ea2971cee799.png\",\n",
    "            }\n",
    "        ]\n",
    "    },\n",
    "):\n",
    "    pretty_print_messages(chunk, last_message=True)\n",
    "\n",
    "final_message_history = chunk[\"supervisor\"][\"messages\"]"
   ]
  },
  {
   "cell_type": "code",
   "execution_count": 206,
   "id": "7cdaa97a",
   "metadata": {},
   "outputs": [
    {
     "name": "stdout",
     "output_type": "stream",
     "text": [
      "Update from node supervisor:\n",
      "\n",
      "\n",
      "=================================\u001b[1m Tool Message \u001b[0m=================================\n",
      "Name: transfer_to_multi_agent_visual_assistant\n",
      "\n",
      "Successfully transferred to multi_agent_visual_assistant\n",
      "\n",
      "\n",
      "Found https://s3.amazonaws.com/cdn-origin-etr.akc.org/wp-content/uploads/2018/04/24144817/American-Staffordshire-Terrier-lying-outdoors-next-to-a-kitten-that-is-playing-with-the-dogs-nose.jpg locally at American-Staffordshire-Terrier-lying-outdoors-next-to-a-kitten-that-is-playing-with-the-dogs-nose.jpg\n",
      "Update from node multi_agent_visual_assistant:\n",
      "\n",
      "\n",
      "=================================\u001b[1m Tool Message \u001b[0m=================================\n",
      "Name: transfer_back_to_supervisor\n",
      "\n",
      "Successfully transferred back to supervisor\n",
      "\n",
      "\n",
      "Update from node supervisor:\n",
      "\n",
      "\n",
      "==================================\u001b[1m Ai Message \u001b[0m==================================\n",
      "Name: supervisor\n",
      "\n",
      "The image contains 2 dogs.\n",
      "\n",
      "\n"
     ]
    }
   ],
   "source": [
    "for chunk in supervisor.stream(\n",
    "    {\n",
    "        \"messages\": [\n",
    "            {\n",
    "                \"role\": \"user\",\n",
    "                \"content\": \"How many dogs are there in the image? Image: https://s3.amazonaws.com/cdn-origin-etr.akc.org/wp-content/uploads/2018/04/24144817/American-Staffordshire-Terrier-lying-outdoors-next-to-a-kitten-that-is-playing-with-the-dogs-nose.jpg\",\n",
    "            }\n",
    "        ]\n",
    "    },\n",
    "):\n",
    "    pretty_print_messages(chunk, last_message=True)\n",
    "\n",
    "final_message_history = chunk[\"supervisor\"][\"messages\"]"
   ]
  },
  {
   "cell_type": "code",
   "execution_count": null,
   "id": "c2bffd6f",
   "metadata": {},
   "outputs": [],
   "source": []
  }
 ],
 "metadata": {
  "kernelspec": {
   "display_name": "Python 3",
   "language": "python",
   "name": "python3"
  },
  "language_info": {
   "codemirror_mode": {
    "name": "ipython",
    "version": 3
   },
   "file_extension": ".py",
   "mimetype": "text/x-python",
   "name": "python",
   "nbconvert_exporter": "python",
   "pygments_lexer": "ipython3",
   "version": "3.11.9"
  }
 },
 "nbformat": 4,
 "nbformat_minor": 5
}
